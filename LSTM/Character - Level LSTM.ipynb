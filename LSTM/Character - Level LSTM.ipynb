{
 "cells": [
  {
   "cell_type": "markdown",
   "source": [
    "# Character-Level LSTM in PyTorch\n",
    "\n",
    "In this notebook, I'll construct a character-level LSTM with PyTorch. The network will train character by character on some text, then generate new text character by character. As an example, I will train on Anna Karenina. **This model will be able to generate new text based on the text from the book!**\n",
    "\n",
    "This network is based off of Andrej Karpathy's [post on RNNs](http://karpathy.github.io/2015/05/21/rnn-effectiveness/) and [implementation in Torch](https://github.com/karpathy/char-rnn). Below is the general architecture of the character-wise RNN.\n",
    "\n",
    "<img src=\"assets/charseq.jpeg\" width=\"500\">"
   ],
   "metadata": {
    "collapsed": false,
    "pycharm": {
     "name": "#%% md\n"
    }
   }
  },
  {
   "cell_type": "code",
   "execution_count": 1,
   "outputs": [],
   "source": [
    "import numpy as np\n",
    "import torch\n",
    "from torch import nn\n",
    "import torch.nn.functional as F"
   ],
   "metadata": {
    "collapsed": false,
    "pycharm": {
     "name": "#%%\n"
    }
   }
  },
  {
   "cell_type": "markdown",
   "source": [
    "## Load in Data\n",
    "\n",
    "Then, we'll load the Anna Karenina text file and convert it into integers for our network to use.\n",
    "\n",
    "### Tokenization\n",
    "\n",
    "In the second cell, below, I'm creating a couple **dictionaries** to convert the characters to and from integers. Encoding the characters as integers makes it easier to use as input in the network."
   ],
   "metadata": {
    "collapsed": false,
    "pycharm": {
     "name": "#%% md\n"
    }
   }
  },
  {
   "cell_type": "code",
   "execution_count": 2,
   "outputs": [],
   "source": [
    "# open text file and read in data as `text`\n",
    "with open('lstm_data/anna.txt', 'r') as f:\n",
    "    text = f.read()"
   ],
   "metadata": {
    "collapsed": false,
    "pycharm": {
     "name": "#%%\n"
    }
   }
  },
  {
   "cell_type": "code",
   "execution_count": 3,
   "outputs": [],
   "source": [
    "# encode the text and map each character to an integer and vice versa\n",
    "\n",
    "# we create two dictonaries:\n",
    "# 1. int2char, which maps integers to characters\n",
    "# 2. char2int, which maps characters to unique integers\n",
    "\n",
    "chars = tuple(set(text))\n",
    "int2char = dict(enumerate(chars))\n",
    "char2int = {ch:ii for ii, ch in int2char.items()}\n",
    "encoded = np.array([char2int[ch] for ch in text])"
   ],
   "metadata": {
    "collapsed": false,
    "pycharm": {
     "name": "#%%\n"
    }
   }
  },
  {
   "cell_type": "code",
   "execution_count": 4,
   "outputs": [
    {
     "data": {
      "text/plain": "'Chapter 1\\n\\n\\nHappy families are all alike; every unhappy family is unhappy in its own\\nway.\\n\\nEverythin'"
     },
     "execution_count": 4,
     "metadata": {},
     "output_type": "execute_result"
    }
   ],
   "source": [
    "text[:100]"
   ],
   "metadata": {
    "collapsed": false,
    "pycharm": {
     "name": "#%%\n"
    }
   }
  },
  {
   "cell_type": "code",
   "execution_count": 5,
   "outputs": [
    {
     "data": {
      "text/plain": "dict_items([(0, 'h'), (1, 'i'), (2, 'u'), (3, ';'), (4, 'a'), (5, 'P'), (6, 'y'), (7, 'G'), (8, 'r'), (9, 'T'), (10, 'x'), (11, 'Y'), (12, 'w'), (13, 'Z'), (14, '0'), (15, 'A'), (16, '7'), (17, 'J'), (18, 'H'), (19, '1'), (20, '('), (21, '\"'), (22, 'k'), (23, 'V'), (24, 'v'), (25, 'C'), (26, 'o'), (27, ','), (28, 'D'), (29, 'M'), (30, '&'), (31, '/'), (32, 'f'), (33, '*'), (34, 'K'), (35, 'c'), (36, 'p'), (37, '!'), (38, 'F'), (39, 'm'), (40, 'l'), (41, 'W'), (42, 'E'), (43, 'L'), (44, '@'), (45, 'X'), (46, 's'), (47, 'O'), (48, '\\n'), (49, 'Q'), (50, ':'), (51, '5'), (52, 'N'), (53, 'I'), (54, 'n'), (55, '-'), (56, '3'), (57, '%'), (58, '.'), (59, '?'), (60, 'U'), (61, 'q'), (62, 'e'), (63, '$'), (64, 'R'), (65, '4'), (66, \"'\"), (67, 'z'), (68, '6'), (69, ' '), (70, 'g'), (71, '_'), (72, 'S'), (73, '8'), (74, 'j'), (75, '`'), (76, 'b'), (77, 'd'), (78, ')'), (79, 't'), (80, '2'), (81, 'B'), (82, '9')])"
     },
     "execution_count": 5,
     "metadata": {},
     "output_type": "execute_result"
    }
   ],
   "source": [
    "int2char.items()"
   ],
   "metadata": {
    "collapsed": false,
    "pycharm": {
     "name": "#%%\n"
    }
   }
  },
  {
   "cell_type": "code",
   "execution_count": 6,
   "outputs": [
    {
     "data": {
      "text/plain": "array([25,  0,  4, 36, 79, 62,  8, 69, 19, 48, 48, 48, 18,  4, 36, 36,  6,\n       69, 32,  4, 39,  1, 40,  1, 62, 46, 69,  4,  8, 62, 69,  4, 40, 40,\n       69,  4, 40,  1, 22, 62,  3, 69, 62, 24, 62,  8,  6, 69,  2, 54,  0,\n        4, 36, 36,  6, 69, 32,  4, 39,  1, 40,  6, 69,  1, 46, 69,  2, 54,\n        0,  4, 36, 36,  6, 69,  1, 54, 69,  1, 79, 46, 69, 26, 12, 54, 48,\n       12,  4,  6, 58, 48, 48, 42, 24, 62,  8,  6, 79,  0,  1, 54])"
     },
     "execution_count": 6,
     "metadata": {},
     "output_type": "execute_result"
    }
   ],
   "source": [
    "encoded[:100]"
   ],
   "metadata": {
    "collapsed": false,
    "pycharm": {
     "name": "#%%\n"
    }
   }
  },
  {
   "cell_type": "code",
   "execution_count": 7,
   "outputs": [
    {
     "data": {
      "text/plain": "(10, 198500)"
     },
     "execution_count": 7,
     "metadata": {},
     "output_type": "execute_result"
    }
   ],
   "source": [
    "N_seqs = 10\n",
    "N_steps = 50\n",
    "\n",
    "# Get the number of characters per batch\n",
    "batch_size = N_seqs * N_steps\n",
    "\n",
    "## TODO: Get the number of batches we can make\n",
    "n_batches = len(encoded) // batch_size\n",
    "\n",
    "## TODO: Keep only enough characters to make full batches\n",
    "ARR = encoded[0: N_seqs * N_steps * n_batches]\n",
    "\n",
    "## TODO: Reshape into batch_size rows\n",
    "ARR = ARR.reshape((N_seqs, -1))\n",
    "\n",
    "# np.where(ARR == ARR[2])[1]\n",
    "\n",
    "ARR.shape"
   ],
   "metadata": {
    "collapsed": false,
    "pycharm": {
     "name": "#%%\n"
    }
   }
  },
  {
   "cell_type": "code",
   "execution_count": 8,
   "outputs": [],
   "source": [
    "\n",
    "## TODO: Make batches\n",
    "for n in range(0, ARR.shape[1], N_steps):\n",
    "    # The features\n",
    "    x = ARR[:, n:n +N_steps]\n",
    "\n",
    "    y = np.zeros_like(x)\n",
    "    try:\n",
    "        y[:, :-1], y[:, -1] = x[:, 1:], ARR[:, n+N_steps]\n",
    "    except IndexError:\n",
    "        y[:, :-1], y[:, -1] = x[:, 1:], ARR[:, 0]"
   ],
   "metadata": {
    "collapsed": false,
    "pycharm": {
     "name": "#%%\n"
    }
   }
  },
  {
   "cell_type": "code",
   "execution_count": 9,
   "outputs": [
    {
     "data": {
      "text/plain": "array([[25,  0,  4, 36, 79, 62,  8, 69, 19, 48, 48, 48, 18,  4, 36, 36,\n         6, 69, 32,  4, 39,  1, 40,  1, 62, 46, 69,  4,  8, 62, 69,  4,\n        40, 40, 69,  4, 40,  1, 22, 62,  3, 69, 62, 24, 62,  8,  6, 69,\n         2, 54],\n       [69,  4, 39, 69, 54, 26, 79, 69, 70, 26,  1, 54, 70, 69, 79, 26,\n        69, 46, 79,  4,  6, 27, 21, 69,  4, 54, 46, 12, 62,  8, 62, 77,\n        69, 15, 54, 54,  4, 27, 69, 46, 39,  1, 40,  1, 54, 70, 27, 69,\n        76,  2],\n       [24,  1, 54, 58, 48, 48, 21, 11, 62, 46, 27, 69,  1, 79, 66, 46,\n        69, 46, 62, 79, 79, 40, 62, 77, 58, 69,  9,  0, 62, 69, 36,  8,\n         1, 35, 62, 69,  1, 46, 69, 39,  4, 70, 54,  1, 32,  1, 35, 62,\n        54, 79],\n       [54, 69, 77,  2,  8,  1, 54, 70, 69,  0,  1, 46, 69, 35, 26, 54,\n        24, 62,  8, 46,  4, 79,  1, 26, 54, 69, 12,  1, 79,  0, 69,  0,\n         1, 46, 48, 76,  8, 26, 79,  0, 62,  8, 69, 12,  4, 46, 69, 79,\n         0,  1],\n       [69,  1, 79, 69,  1, 46, 27, 69, 46,  1,  8, 37, 21, 69, 46,  4,\n         1, 77, 69, 79,  0, 62, 69, 26, 40, 77, 69, 39,  4, 54, 27, 69,\n        70, 62, 79, 79,  1, 54, 70, 69,  2, 36, 27, 69,  4, 54, 77, 48,\n        35,  8],\n       [69, 53, 79, 69, 12,  4, 46, 48, 26, 54, 40,  6, 69, 12,  0, 62,\n        54, 69, 79,  0, 62, 69, 46,  4, 39, 62, 69, 62, 24, 62, 54,  1,\n        54, 70, 69,  0, 62, 69, 35,  4, 39, 62, 69, 79, 26, 69, 79,  0,\n        62,  1],\n       [ 0, 62, 54, 69, 35, 26, 39, 62, 69, 32, 26,  8, 69, 39, 62, 27,\n        21, 69, 46,  0, 62, 69, 46,  4,  1, 77, 27, 69,  4, 54, 77, 69,\n        12, 62, 54, 79, 69, 76,  4, 35, 22, 69,  1, 54, 79, 26, 69, 79,\n         0, 62],\n       [ 3, 69, 76,  2, 79, 69, 54, 26, 12, 69, 46,  0, 62, 69, 12, 26,\n         2, 40, 77, 69,  8, 62,  4, 77,  1, 40,  6, 69,  0,  4, 24, 62,\n        69, 46,  4, 35,  8,  1, 32,  1, 35, 62, 77, 27, 69, 54, 26, 79,\n        69, 39],\n       [79, 69,  1, 46, 54, 66, 79, 58, 69,  9,  0, 62,  6, 66,  8, 62,\n        69, 36,  8, 26, 36,  8,  1, 62, 79, 26,  8, 46, 69, 26, 32, 69,\n         4, 69, 46, 26,  8, 79, 27, 48, 76,  2, 79, 69, 12, 62, 66,  8,\n        62, 69],\n       [69, 46,  4,  1, 77, 69, 79, 26, 69,  0, 62,  8, 46, 62, 40, 32,\n        27, 69,  4, 54, 77, 69, 76, 62, 70,  4, 54, 69,  4, 70,  4,  1,\n        54, 69, 32,  8, 26, 39, 69, 79,  0, 62, 69, 76, 62, 70,  1, 54,\n        54,  1]])"
     },
     "execution_count": 9,
     "metadata": {},
     "output_type": "execute_result"
    }
   ],
   "source": [
    "nnn = 0\n",
    "\n",
    "NEW_ARR = ARR[:, nnn:nnn +N_steps]\n",
    "NEW_ARR"
   ],
   "metadata": {
    "collapsed": false,
    "pycharm": {
     "name": "#%%\n"
    }
   }
  },
  {
   "cell_type": "code",
   "execution_count": 10,
   "outputs": [
    {
     "data": {
      "text/plain": "array([[ 0,  4, 36, 79, 62,  8, 69, 19, 48, 48, 48, 18,  4, 36, 36,  6,\n        69, 32,  4, 39,  1, 40,  1, 62, 46, 69,  4,  8, 62, 69,  4, 40,\n        40, 69,  4, 40,  1, 22, 62,  3, 69, 62, 24, 62,  8,  6, 69,  2,\n        54,  0],\n       [ 4, 39, 69, 54, 26, 79, 69, 70, 26,  1, 54, 70, 69, 79, 26, 69,\n        46, 79,  4,  6, 27, 21, 69,  4, 54, 46, 12, 62,  8, 62, 77, 69,\n        15, 54, 54,  4, 27, 69, 46, 39,  1, 40,  1, 54, 70, 27, 69, 76,\n         2,  0],\n       [ 1, 54, 58, 48, 48, 21, 11, 62, 46, 27, 69,  1, 79, 66, 46, 69,\n        46, 62, 79, 79, 40, 62, 77, 58, 69,  9,  0, 62, 69, 36,  8,  1,\n        35, 62, 69,  1, 46, 69, 39,  4, 70, 54,  1, 32,  1, 35, 62, 54,\n        79,  0],\n       [69, 77,  2,  8,  1, 54, 70, 69,  0,  1, 46, 69, 35, 26, 54, 24,\n        62,  8, 46,  4, 79,  1, 26, 54, 69, 12,  1, 79,  0, 69,  0,  1,\n        46, 48, 76,  8, 26, 79,  0, 62,  8, 69, 12,  4, 46, 69, 79,  0,\n         1,  0],\n       [ 1, 79, 69,  1, 46, 27, 69, 46,  1,  8, 37, 21, 69, 46,  4,  1,\n        77, 69, 79,  0, 62, 69, 26, 40, 77, 69, 39,  4, 54, 27, 69, 70,\n        62, 79, 79,  1, 54, 70, 69,  2, 36, 27, 69,  4, 54, 77, 48, 35,\n         8,  0],\n       [53, 79, 69, 12,  4, 46, 48, 26, 54, 40,  6, 69, 12,  0, 62, 54,\n        69, 79,  0, 62, 69, 46,  4, 39, 62, 69, 62, 24, 62, 54,  1, 54,\n        70, 69,  0, 62, 69, 35,  4, 39, 62, 69, 79, 26, 69, 79,  0, 62,\n         1,  0],\n       [62, 54, 69, 35, 26, 39, 62, 69, 32, 26,  8, 69, 39, 62, 27, 21,\n        69, 46,  0, 62, 69, 46,  4,  1, 77, 27, 69,  4, 54, 77, 69, 12,\n        62, 54, 79, 69, 76,  4, 35, 22, 69,  1, 54, 79, 26, 69, 79,  0,\n        62,  0],\n       [69, 76,  2, 79, 69, 54, 26, 12, 69, 46,  0, 62, 69, 12, 26,  2,\n        40, 77, 69,  8, 62,  4, 77,  1, 40,  6, 69,  0,  4, 24, 62, 69,\n        46,  4, 35,  8,  1, 32,  1, 35, 62, 77, 27, 69, 54, 26, 79, 69,\n        39,  0],\n       [69,  1, 46, 54, 66, 79, 58, 69,  9,  0, 62,  6, 66,  8, 62, 69,\n        36,  8, 26, 36,  8,  1, 62, 79, 26,  8, 46, 69, 26, 32, 69,  4,\n        69, 46, 26,  8, 79, 27, 48, 76,  2, 79, 69, 12, 62, 66,  8, 62,\n        69,  0],\n       [46,  4,  1, 77, 69, 79, 26, 69,  0, 62,  8, 46, 62, 40, 32, 27,\n        69,  4, 54, 77, 69, 76, 62, 70,  4, 54, 69,  4, 70,  4,  1, 54,\n        69, 32,  8, 26, 39, 69, 79,  0, 62, 69, 76, 62, 70,  1, 54, 54,\n         1,  0]])"
     },
     "execution_count": 10,
     "metadata": {},
     "output_type": "execute_result"
    }
   ],
   "source": [
    "y = np.zeros_like(NEW_ARR)\n",
    "\n",
    "y[:,:-1] = NEW_ARR[:,1:]\n",
    "y"
   ],
   "metadata": {
    "collapsed": false,
    "pycharm": {
     "name": "#%%\n"
    }
   }
  },
  {
   "cell_type": "code",
   "execution_count": 11,
   "outputs": [
    {
     "data": {
      "text/plain": "array([0, 0, 0, 0, 0, 0, 0, 0, 0, 0])"
     },
     "execution_count": 11,
     "metadata": {},
     "output_type": "execute_result"
    }
   ],
   "source": [
    "y[:, -1]"
   ],
   "metadata": {
    "collapsed": false,
    "pycharm": {
     "name": "#%%\n"
    }
   }
  },
  {
   "cell_type": "code",
   "execution_count": 12,
   "outputs": [
    {
     "data": {
      "text/plain": "array([[ 0,  4, 36, 79, 62,  8, 69, 19, 48, 48, 48, 18,  4, 36, 36,  6,\n        69, 32,  4, 39,  1, 40,  1, 62, 46, 69,  4,  8, 62, 69,  4, 40,\n        40, 69,  4, 40,  1, 22, 62,  3, 69, 62, 24, 62,  8,  6, 69,  2,\n        54, 25],\n       [ 4, 39, 69, 54, 26, 79, 69, 70, 26,  1, 54, 70, 69, 79, 26, 69,\n        46, 79,  4,  6, 27, 21, 69,  4, 54, 46, 12, 62,  8, 62, 77, 69,\n        15, 54, 54,  4, 27, 69, 46, 39,  1, 40,  1, 54, 70, 27, 69, 76,\n         2, 69],\n       [ 1, 54, 58, 48, 48, 21, 11, 62, 46, 27, 69,  1, 79, 66, 46, 69,\n        46, 62, 79, 79, 40, 62, 77, 58, 69,  9,  0, 62, 69, 36,  8,  1,\n        35, 62, 69,  1, 46, 69, 39,  4, 70, 54,  1, 32,  1, 35, 62, 54,\n        79, 24],\n       [69, 77,  2,  8,  1, 54, 70, 69,  0,  1, 46, 69, 35, 26, 54, 24,\n        62,  8, 46,  4, 79,  1, 26, 54, 69, 12,  1, 79,  0, 69,  0,  1,\n        46, 48, 76,  8, 26, 79,  0, 62,  8, 69, 12,  4, 46, 69, 79,  0,\n         1, 54],\n       [ 1, 79, 69,  1, 46, 27, 69, 46,  1,  8, 37, 21, 69, 46,  4,  1,\n        77, 69, 79,  0, 62, 69, 26, 40, 77, 69, 39,  4, 54, 27, 69, 70,\n        62, 79, 79,  1, 54, 70, 69,  2, 36, 27, 69,  4, 54, 77, 48, 35,\n         8, 69],\n       [53, 79, 69, 12,  4, 46, 48, 26, 54, 40,  6, 69, 12,  0, 62, 54,\n        69, 79,  0, 62, 69, 46,  4, 39, 62, 69, 62, 24, 62, 54,  1, 54,\n        70, 69,  0, 62, 69, 35,  4, 39, 62, 69, 79, 26, 69, 79,  0, 62,\n         1, 69],\n       [62, 54, 69, 35, 26, 39, 62, 69, 32, 26,  8, 69, 39, 62, 27, 21,\n        69, 46,  0, 62, 69, 46,  4,  1, 77, 27, 69,  4, 54, 77, 69, 12,\n        62, 54, 79, 69, 76,  4, 35, 22, 69,  1, 54, 79, 26, 69, 79,  0,\n        62,  0],\n       [69, 76,  2, 79, 69, 54, 26, 12, 69, 46,  0, 62, 69, 12, 26,  2,\n        40, 77, 69,  8, 62,  4, 77,  1, 40,  6, 69,  0,  4, 24, 62, 69,\n        46,  4, 35,  8,  1, 32,  1, 35, 62, 77, 27, 69, 54, 26, 79, 69,\n        39,  3],\n       [69,  1, 46, 54, 66, 79, 58, 69,  9,  0, 62,  6, 66,  8, 62, 69,\n        36,  8, 26, 36,  8,  1, 62, 79, 26,  8, 46, 69, 26, 32, 69,  4,\n        69, 46, 26,  8, 79, 27, 48, 76,  2, 79, 69, 12, 62, 66,  8, 62,\n        69, 79],\n       [46,  4,  1, 77, 69, 79, 26, 69,  0, 62,  8, 46, 62, 40, 32, 27,\n        69,  4, 54, 77, 69, 76, 62, 70,  4, 54, 69,  4, 70,  4,  1, 54,\n        69, 32,  8, 26, 39, 69, 79,  0, 62, 69, 76, 62, 70,  1, 54, 54,\n         1, 69]])"
     },
     "execution_count": 12,
     "metadata": {},
     "output_type": "execute_result"
    }
   ],
   "source": [
    "y[:, -1] = ARR[:, 0]\n",
    "y"
   ],
   "metadata": {
    "collapsed": false,
    "pycharm": {
     "name": "#%%\n"
    }
   }
  },
  {
   "cell_type": "code",
   "execution_count": 13,
   "outputs": [
    {
     "data": {
      "text/plain": "{0: 'h',\n 1: 'i',\n 2: 'u',\n 3: ';',\n 4: 'a',\n 5: 'P',\n 6: 'y',\n 7: 'G',\n 8: 'r',\n 9: 'T',\n 10: 'x',\n 11: 'Y',\n 12: 'w',\n 13: 'Z',\n 14: '0',\n 15: 'A',\n 16: '7',\n 17: 'J',\n 18: 'H',\n 19: '1',\n 20: '(',\n 21: '\"',\n 22: 'k',\n 23: 'V',\n 24: 'v',\n 25: 'C',\n 26: 'o',\n 27: ',',\n 28: 'D',\n 29: 'M',\n 30: '&',\n 31: '/',\n 32: 'f',\n 33: '*',\n 34: 'K',\n 35: 'c',\n 36: 'p',\n 37: '!',\n 38: 'F',\n 39: 'm',\n 40: 'l',\n 41: 'W',\n 42: 'E',\n 43: 'L',\n 44: '@',\n 45: 'X',\n 46: 's',\n 47: 'O',\n 48: '\\n',\n 49: 'Q',\n 50: ':',\n 51: '5',\n 52: 'N',\n 53: 'I',\n 54: 'n',\n 55: '-',\n 56: '3',\n 57: '%',\n 58: '.',\n 59: '?',\n 60: 'U',\n 61: 'q',\n 62: 'e',\n 63: '$',\n 64: 'R',\n 65: '4',\n 66: \"'\",\n 67: 'z',\n 68: '6',\n 69: ' ',\n 70: 'g',\n 71: '_',\n 72: 'S',\n 73: '8',\n 74: 'j',\n 75: '`',\n 76: 'b',\n 77: 'd',\n 78: ')',\n 79: 't',\n 80: '2',\n 81: 'B',\n 82: '9'}"
     },
     "execution_count": 13,
     "metadata": {},
     "output_type": "execute_result"
    }
   ],
   "source": [
    "int2char"
   ],
   "metadata": {
    "collapsed": false,
    "pycharm": {
     "name": "#%%\n"
    }
   }
  },
  {
   "cell_type": "code",
   "execution_count": 14,
   "outputs": [
    {
     "data": {
      "text/plain": "('h',\n 'i',\n 'u',\n ';',\n 'a',\n 'P',\n 'y',\n 'G',\n 'r',\n 'T',\n 'x',\n 'Y',\n 'w',\n 'Z',\n '0',\n 'A',\n '7',\n 'J',\n 'H',\n '1',\n '(',\n '\"',\n 'k',\n 'V',\n 'v',\n 'C',\n 'o',\n ',',\n 'D',\n 'M',\n '&',\n '/',\n 'f',\n '*',\n 'K',\n 'c',\n 'p',\n '!',\n 'F',\n 'm',\n 'l',\n 'W',\n 'E',\n 'L',\n '@',\n 'X',\n 's',\n 'O',\n '\\n',\n 'Q',\n ':',\n '5',\n 'N',\n 'I',\n 'n',\n '-',\n '3',\n '%',\n '.',\n '?',\n 'U',\n 'q',\n 'e',\n '$',\n 'R',\n '4',\n \"'\",\n 'z',\n '6',\n ' ',\n 'g',\n '_',\n 'S',\n '8',\n 'j',\n '`',\n 'b',\n 'd',\n ')',\n 't',\n '2',\n 'B',\n '9')"
     },
     "execution_count": 14,
     "metadata": {},
     "output_type": "execute_result"
    }
   ],
   "source": [
    "chars"
   ],
   "metadata": {
    "collapsed": false,
    "pycharm": {
     "name": "#%%\n"
    }
   }
  },
  {
   "cell_type": "code",
   "execution_count": 15,
   "outputs": [
    {
     "data": {
      "text/plain": "{'h': 0,\n 'i': 1,\n 'u': 2,\n ';': 3,\n 'a': 4,\n 'P': 5,\n 'y': 6,\n 'G': 7,\n 'r': 8,\n 'T': 9,\n 'x': 10,\n 'Y': 11,\n 'w': 12,\n 'Z': 13,\n '0': 14,\n 'A': 15,\n '7': 16,\n 'J': 17,\n 'H': 18,\n '1': 19,\n '(': 20,\n '\"': 21,\n 'k': 22,\n 'V': 23,\n 'v': 24,\n 'C': 25,\n 'o': 26,\n ',': 27,\n 'D': 28,\n 'M': 29,\n '&': 30,\n '/': 31,\n 'f': 32,\n '*': 33,\n 'K': 34,\n 'c': 35,\n 'p': 36,\n '!': 37,\n 'F': 38,\n 'm': 39,\n 'l': 40,\n 'W': 41,\n 'E': 42,\n 'L': 43,\n '@': 44,\n 'X': 45,\n 's': 46,\n 'O': 47,\n '\\n': 48,\n 'Q': 49,\n ':': 50,\n '5': 51,\n 'N': 52,\n 'I': 53,\n 'n': 54,\n '-': 55,\n '3': 56,\n '%': 57,\n '.': 58,\n '?': 59,\n 'U': 60,\n 'q': 61,\n 'e': 62,\n '$': 63,\n 'R': 64,\n '4': 65,\n \"'\": 66,\n 'z': 67,\n '6': 68,\n ' ': 69,\n 'g': 70,\n '_': 71,\n 'S': 72,\n '8': 73,\n 'j': 74,\n '`': 75,\n 'b': 76,\n 'd': 77,\n ')': 78,\n 't': 79,\n '2': 80,\n 'B': 81,\n '9': 82}"
     },
     "execution_count": 15,
     "metadata": {},
     "output_type": "execute_result"
    }
   ],
   "source": [
    "char2int"
   ],
   "metadata": {
    "collapsed": false,
    "pycharm": {
     "name": "#%%\n"
    }
   }
  },
  {
   "cell_type": "markdown",
   "source": [
    "## Pre-processing the data\n",
    "\n",
    "As you can see in our char-RNN image above, our LSTM expects an input that is **one-hot encoded** meaning that each character is converted into an intgere (via our created dictionary) and *then* converted into a column vector where only it's corresponsing integer index will have the value of 1 and the rest of the vector will be filled with 0's. Since we're one-hot encoding the data, let's make a function to do that!\n"
   ],
   "metadata": {
    "collapsed": false,
    "pycharm": {
     "name": "#%% md\n"
    }
   }
  },
  {
   "cell_type": "code",
   "execution_count": 16,
   "outputs": [],
   "source": [
    "def one_hot_encode(arr, n_labels):\n",
    "\n",
    "    # Initialize the the encoded array\n",
    "    one_hot = np.zeros((np.multiply(*arr.shape), n_labels), dtype = np.float32)\n",
    "\n",
    "    # Fill the appropriate elements with one\n",
    "    one_hot[np.arange(one_hot.shape[0]), arr.flatten()] = 1\n",
    "\n",
    "    # Reshape it to get back the original array\n",
    "    one_hot = one_hot.reshape((*arr.shape, n_labels))\n",
    "\n",
    "    return one_hot"
   ],
   "metadata": {
    "collapsed": false,
    "pycharm": {
     "name": "#%%\n"
    }
   }
  },
  {
   "cell_type": "markdown",
   "source": [
    "## Making training mini-batches\n",
    "\n",
    "\n",
    "To train on this data, we also want to create mini-batches for training. Remember that we want our batches to be multiple sequences of some desired number of sequence steps. Considering a simple example, our batches would look like this:\n",
    "\n",
    "<img src=\"assets/sequence_batching@1x.png\" width=500px>\n",
    "\n",
    "\n",
    "<br>\n",
    "\n",
    "In this example, we'll take the encoded characters (passed in as the `arr` parameter) and split them into multiple sequences, given by `n_seqs` (also refered to as \"batch size\" in other places). Each of those sequences will be `n_steps` long.\n",
    "\n",
    "### Creating Batches\n",
    "\n",
    "**1. The first thing we need to do is discard some of the text so we only have completely full batches. **\n",
    "\n",
    "Each batch contains $N \\times M$ characters, where $N$ is the batch size (the number of sequences) and $M$ is the number of steps. Then, to get the total number of batches, $K$, we can make from the array `arr`, you divide the length of `arr` by the number of characters per batch. Once you know the number of batches, you can get the total number of characters to keep from `arr`, $N * M * K$.\n",
    "\n",
    "**2. After that, we need to split `arr` into $N$ sequences. **\n",
    "\n",
    "You can do this using `arr.reshape(size)` where `size` is a tuple containing the dimensions sizes of the reshaped array. We know we want $N$ sequences, so let's make that the size of the first dimension. For the second dimension, you can use `-1` as a placeholder in the size, it'll fill up the array with the appropriate data for you. After this, you should have an array that is $N \\times (M * K)$.\n",
    "\n",
    "**3. Now that we have this array, we can iterate through it to get our batches. **\n",
    "\n",
    "The idea is each batch is a $N \\times M$ window on the $N \\times (M * K)$ array. For each subsequent batch, the window moves over by `n_steps`. We also want to create both the input and target arrays. Remember that the targets are the inputs shifted over one character. The way I like to do this window is use `range` to take steps of size `n_steps` from $0$ to `arr.shape[1]`, the total number of steps in each sequence. That way, the integers you get from `range` always point to the start of a batch, and each window is `n_steps` wide.\n",
    "\n",
    "> **TODO:** Write the code for creating batches in the function below. The exercises in this notebook _will not be easy_. I've provided a notebook with solutions alongside this notebook. If you get stuck, checkout the solutions. The most important thing is that you don't copy and paste the code into here, **type out the solution code yourself.**"
   ],
   "metadata": {
    "collapsed": false,
    "pycharm": {
     "name": "#%% md\n"
    }
   }
  },
  {
   "cell_type": "code",
   "execution_count": 17,
   "outputs": [],
   "source": [
    "def get_batches(arr, n_seqs, n_steps):\n",
    "    '''Create a generator that returns batches of size\n",
    "       n_seqs x n_steps from arr.\n",
    "\n",
    "       Arguments\n",
    "       ---------\n",
    "       arr: Array you want to make batches from\n",
    "       n_seqs: Batch size, the number of sequences per batch\n",
    "       n_steps: Number of sequence steps per batch\n",
    "    '''\n",
    "\n",
    "    # Get the number of characters per batch\n",
    "    batch_size = n_seqs * n_steps\n",
    "\n",
    "    ## TODO: Get the number of batches we can make\n",
    "    n_batches = len(arr) // batch_size\n",
    "\n",
    "    ## TODO: Keep only enough characters to make full batches\n",
    "    arr = arr[0: n_seqs * n_steps * n_batches]\n",
    "\n",
    "    ## TODO: Reshape into batch_size rows\n",
    "    arr = arr.reshape((n_seqs, -1))\n",
    "\n",
    "    ## TODO: Make batches\n",
    "    for n in range(0, arr.shape[1], n_steps):\n",
    "        # The features\n",
    "        x = arr[:, n:n+n_steps]\n",
    "        # The targets, shifted by one\n",
    "        y = np.zeros_like(x)\n",
    "        try:\n",
    "            y[:, :-1], y[:, -1] = x[:, 1:], arr[:, n+n_steps]\n",
    "        except IndexError:\n",
    "            y[:, :-1], y[:, -1] = x[:, 1:], arr[:, 0]\n",
    "        yield x, y\n"
   ],
   "metadata": {
    "collapsed": false,
    "pycharm": {
     "name": "#%%\n"
    }
   }
  },
  {
   "cell_type": "code",
   "execution_count": 18,
   "outputs": [],
   "source": [
    "batches = get_batches(encoded, 10, 50)\n",
    "x, y = next(batches)"
   ],
   "metadata": {
    "collapsed": false,
    "pycharm": {
     "name": "#%%\n"
    }
   }
  },
  {
   "cell_type": "code",
   "execution_count": 19,
   "outputs": [
    {
     "name": "stdout",
     "output_type": "stream",
     "text": [
      "x\n",
      " [[25  0  4 36 79 62  8 69 19 48]\n",
      " [69  4 39 69 54 26 79 69 70 26]\n",
      " [24  1 54 58 48 48 21 11 62 46]\n",
      " [54 69 77  2  8  1 54 70 69  0]\n",
      " [69  1 79 69  1 46 27 69 46  1]\n",
      " [69 53 79 69 12  4 46 48 26 54]\n",
      " [ 0 62 54 69 35 26 39 62 69 32]\n",
      " [ 3 69 76  2 79 69 54 26 12 69]\n",
      " [79 69  1 46 54 66 79 58 69  9]\n",
      " [69 46  4  1 77 69 79 26 69  0]]\n",
      "\n",
      "y\n",
      " [[ 0  4 36 79 62  8 69 19 48 48]\n",
      " [ 4 39 69 54 26 79 69 70 26  1]\n",
      " [ 1 54 58 48 48 21 11 62 46 27]\n",
      " [69 77  2  8  1 54 70 69  0  1]\n",
      " [ 1 79 69  1 46 27 69 46  1  8]\n",
      " [53 79 69 12  4 46 48 26 54 40]\n",
      " [62 54 69 35 26 39 62 69 32 26]\n",
      " [69 76  2 79 69 54 26 12 69 46]\n",
      " [69  1 46 54 66 79 58 69  9  0]\n",
      " [46  4  1 77 69 79 26 69  0 62]]\n"
     ]
    }
   ],
   "source": [
    "print('x\\n', x[:10, :10])\n",
    "print('\\ny\\n', y[:10, :10])"
   ],
   "metadata": {
    "collapsed": false,
    "pycharm": {
     "name": "#%%\n"
    }
   }
  },
  {
   "cell_type": "markdown",
   "source": [
    "If you implemented `get_batches` correctly, the above output should look something like\n",
    "```\n",
    "x\n",
    " [[55 63 69 22  6 76 45  5 16 35]\n",
    " [ 5 69  1  5 12 52  6  5 56 52]\n",
    " [48 29 12 61 35 35  8 64 76 78]\n",
    " [12  5 24 39 45 29 12 56  5 63]\n",
    " [ 5 29  6  5 29 78 28  5 78 29]\n",
    " [ 5 13  6  5 36 69 78 35 52 12]\n",
    " [63 76 12  5 18 52  1 76  5 58]\n",
    " [34  5 73 39  6  5 12 52 36  5]\n",
    " [ 6  5 29 78 12 79  6 61  5 59]\n",
    " [ 5 78 69 29 24  5  6 52  5 63]]\n",
    "\n",
    "y\n",
    " [[63 69 22  6 76 45  5 16 35 35]\n",
    " [69  1  5 12 52  6  5 56 52 29]\n",
    " [29 12 61 35 35  8 64 76 78 28]\n",
    " [ 5 24 39 45 29 12 56  5 63 29]\n",
    " [29  6  5 29 78 28  5 78 29 45]\n",
    " [13  6  5 36 69 78 35 52 12 43]\n",
    " [76 12  5 18 52  1 76  5 58 52]\n",
    " [ 5 73 39  6  5 12 52 36  5 78]\n",
    " [ 5 29 78 12 79  6 61  5 59 63]\n",
    " [78 69 29 24  5  6 52  5 63 76]]\n",
    " ```\n",
    " although the exact numbers will be different. Check to make sure the data is shifted over one step for `y`."
   ],
   "metadata": {
    "collapsed": false,
    "pycharm": {
     "name": "#%% md\n"
    }
   }
  },
  {
   "cell_type": "code",
   "execution_count": 20,
   "outputs": [
    {
     "name": "stdout",
     "output_type": "stream",
     "text": [
      "x\n",
      " [[25  0  4 36 79 62  8 69 19 48]\n",
      " [69  4 39 69 54 26 79 69 70 26]\n",
      " [24  1 54 58 48 48 21 11 62 46]\n",
      " [54 69 77  2  8  1 54 70 69  0]\n",
      " [69  1 79 69  1 46 27 69 46  1]\n",
      " [69 53 79 69 12  4 46 48 26 54]\n",
      " [ 0 62 54 69 35 26 39 62 69 32]\n",
      " [ 3 69 76  2 79 69 54 26 12 69]\n",
      " [79 69  1 46 54 66 79 58 69  9]\n",
      " [69 46  4  1 77 69 79 26 69  0]]\n",
      "\n",
      "y\n",
      " [[ 0  4 36 79 62  8 69 19 48 48]\n",
      " [ 4 39 69 54 26 79 69 70 26  1]\n",
      " [ 1 54 58 48 48 21 11 62 46 27]\n",
      " [69 77  2  8  1 54 70 69  0  1]\n",
      " [ 1 79 69  1 46 27 69 46  1  8]\n",
      " [53 79 69 12  4 46 48 26 54 40]\n",
      " [62 54 69 35 26 39 62 69 32 26]\n",
      " [69 76  2 79 69 54 26 12 69 46]\n",
      " [69  1 46 54 66 79 58 69  9  0]\n",
      " [46  4  1 77 69 79 26 69  0 62]]\n"
     ]
    }
   ],
   "source": [
    "print('x\\n', x[:10, :10])\n",
    "print('\\ny\\n', y[:10, :10])"
   ],
   "metadata": {
    "collapsed": false,
    "pycharm": {
     "name": "#%%\n"
    }
   }
  },
  {
   "cell_type": "markdown",
   "source": [
    "---\n",
    "## Defining the network with PyTorch\n",
    "\n",
    "Below is where you'll define the network. We'll break it up into parts so it's easier to reason about each bit. Then we can connect them up into the whole network.\n",
    "\n",
    "<img src=\"assets/charRNN.png\" width=500px>\n",
    "\n",
    "Next, you'll use PyTorch to define the architecture of the network. We start by defining the layers and operations we want. Then, define a method for the forward pass. You've also been given a method for predicting characters."
   ],
   "metadata": {
    "collapsed": false,
    "pycharm": {
     "name": "#%% md\n"
    }
   }
  },
  {
   "cell_type": "markdown",
   "source": [
    "### Model Structure\n",
    "\n",
    "In `__init__` the suggested structure is as follows:\n",
    "* Create and store the necessary dictionaries (this has been done for you)\n",
    "* Define an LSTM layer that takes as params: an input size (the number of characters), a hidden layer size `n_hidden`, a number of layers `n_layers`, a dropout probability `drop_prob`, and a batch_first boolean (True, since we are batching)\n",
    "* Define a dropout layer with `dropout_prob`\n",
    "* Define a fully-connected layer with params: input size `n_hidden` and output size (the number of characters)\n",
    "* Finally, initialize the weights (again, this has been given)\n",
    "\n",
    "Note that some parameters have been named and given in the `__init__` function, and we use them and store them by doing something like `self.drop_prob = drop_prob`."
   ],
   "metadata": {
    "collapsed": false,
    "pycharm": {
     "name": "#%% md\n"
    }
   }
  },
  {
   "cell_type": "markdown",
   "source": [
    "---\n",
    "### LSTM Inputs/Outputs\n",
    "\n",
    "You can create a basic LSTM cell as follows\n",
    "\n",
    "```python\n",
    "self.lstm = nn.LSTM(input_size, n_hidden, n_layers,\n",
    "                            dropout=drop_prob, batch_first=True)\n",
    "```\n",
    "\n",
    "where `input_size` is the number of characters this cell expects to see as sequential input, and `n_hidden` is the number of units in the hidden layers in the cell. And we can add dropout by adding a dropout parameter with a specified probability; this will automatically add dropout to the inputs or outputs. Finally, in the `forward` function, we can stack up the LSTM cells into layers using `.view`. With this, you pass in a list of cells and it will send the output of one cell into the next cell.\n",
    "\n",
    "We also need to create an initial cell state of all zeros. This is done like so\n",
    "\n",
    "```python\n",
    "self.init_weights()\n",
    "```"
   ],
   "metadata": {
    "collapsed": false,
    "pycharm": {
     "name": "#%% md\n"
    }
   }
  },
  {
   "cell_type": "code",
   "execution_count": 21,
   "outputs": [],
   "source": [
    "class CharRNN(nn.Module):\n",
    "\n",
    "    def __init__(self, tokens, n_steps=100, n_hidden=256, n_layers=2,\n",
    "                               drop_prob=0.5, lr=0.001):\n",
    "        super().__init__()\n",
    "        self.drop_prob = drop_prob\n",
    "        self.n_layers = n_layers\n",
    "        self.n_hidden = n_hidden\n",
    "        self.lr = lr\n",
    "\n",
    "        # creating character dictionaries\n",
    "        self.chars = tokens\n",
    "        self.int2char = dict(enumerate(self.chars))\n",
    "        self.char2int = {ch: ii for ii, ch in self.int2char.items()}\n",
    "\n",
    "        ## TODO: define the LSTM, self.lstm\n",
    "        self.lstm = nn.LSTM(len(tokens), n_hidden, n_layers, dropout=drop_prob, batch_first=True)\n",
    "\n",
    "        ## TODO: define a dropout layer, self.dropout\n",
    "        self.dropout = nn.Dropout(drop_prob)\n",
    "\n",
    "        ## TODO: define the final, fully-connected output layer, self.fc\n",
    "        self.fc = nn.Linear(n_hidden,len(tokens))\n",
    "\n",
    "        # initialize the weights\n",
    "        self.init_weights()\n",
    "\n",
    "\n",
    "    def forward(self, x, hc):\n",
    "        ''' Forward pass through the network.\n",
    "            These inputs are x, and the hidden/cell state `hc`. '''\n",
    "\n",
    "        ## TODO: Get x, and the new hidden state (h, c) from the lstm\n",
    "        x, (h,c) = self.lstm(x,hc)\n",
    "\n",
    "        ## TODO: pass x through a droupout layer\n",
    "        x = self.dropout(x)\n",
    "\n",
    "        # Stack up LSTM outputs using view\n",
    "        x = x.reshape(x.size()[0]*x.size()[1], self.n_hidden)\n",
    "\n",
    "        ## TODO: put x through the fully-connected layer\n",
    "        x = self.fc(x)\n",
    "\n",
    "        # return x and the hidden state (h, c)\n",
    "        return x, (h, c)\n",
    "\n",
    "\n",
    "    def predict(self, char, h=None, cuda=False, top_k=None):\n",
    "        ''' Given a character, predict the next character.\n",
    "\n",
    "            Returns the predicted character and the hidden state.\n",
    "        '''\n",
    "        if cuda:\n",
    "            self.to(device)\n",
    "        else:\n",
    "            self.cpu()\n",
    "\n",
    "        if h is None:\n",
    "            h = self.init_hidden(1)\n",
    "\n",
    "        x = np.array([[self.char2int[char]]])\n",
    "        x = one_hot_encode(x, len(self.chars))\n",
    "        inputs = torch.from_numpy(x)\n",
    "        if cuda:\n",
    "            inputs = inputs.to(device)\n",
    "\n",
    "        h = tuple([each.data for each in h])\n",
    "        out, h = self.forward(inputs, h)\n",
    "\n",
    "        p = F.softmax(out, dim=1).data\n",
    "        if cuda:\n",
    "            p = p.cpu()\n",
    "\n",
    "        if top_k is None:\n",
    "            top_ch = np.arange(len(self.chars))\n",
    "        else:\n",
    "            p, top_ch = p.topk(top_k)\n",
    "            top_ch = top_ch.numpy().squeeze()\n",
    "\n",
    "        p = p.numpy().squeeze()\n",
    "        char = np.random.choice(top_ch, p=p/p.sum())\n",
    "\n",
    "        return self.int2char[char], h\n",
    "\n",
    "    def init_weights(self):\n",
    "        ''' Initialize weights for fully connected layer '''\n",
    "        initrange = 0.1\n",
    "\n",
    "        # Set bias tensor to all zeros\n",
    "        self.fc.bias.data.fill_(0)\n",
    "        # FC weights as random uniform\n",
    "        self.fc.weight.data.uniform_(-1, 1)\n",
    "\n",
    "    def init_hidden(self, n_seqs):\n",
    "        ''' Initializes hidden state '''\n",
    "        # Create two new tensors with sizes n_layers x n_seqs x n_hidden,\n",
    "        # initialized to zero, for hidden state and cell state of LSTM\n",
    "        weight = next(self.parameters()).data\n",
    "        return (weight.new(self.n_layers, n_seqs, self.n_hidden).zero_(),\n",
    "                weight.new(self.n_layers, n_seqs, self.n_hidden).zero_())\n"
   ],
   "metadata": {
    "collapsed": false,
    "pycharm": {
     "name": "#%%\n"
    }
   }
  },
  {
   "cell_type": "markdown",
   "source": [
    "### A note on the `predict`  function\n",
    "\n",
    "The output of our RNN is from a fully-connected layer and it outputs a **distribution of next-character scores**.\n",
    "\n",
    "To actually get the next character, we apply a softmax function, which gives us a *probability* distribution that we can then sample to predict the next character."
   ],
   "metadata": {
    "collapsed": false,
    "pycharm": {
     "name": "#%% md\n"
    }
   }
  },
  {
   "cell_type": "code",
   "execution_count": 22,
   "outputs": [
    {
     "data": {
      "text/plain": "device(type='cuda')"
     },
     "execution_count": 22,
     "metadata": {},
     "output_type": "execute_result"
    }
   ],
   "source": [
    "# antrenare pe GPU daca exista\n",
    "\n",
    "device = torch.device(\"cuda\" if torch.cuda.is_available() else \"cpu\")\n",
    "device"
   ],
   "metadata": {
    "collapsed": false,
    "pycharm": {
     "name": "#%%\n"
    }
   }
  },
  {
   "cell_type": "code",
   "execution_count": 23,
   "outputs": [],
   "source": [
    "if 'net' in locals():\n",
    "    del net"
   ],
   "metadata": {
    "collapsed": false,
    "pycharm": {
     "name": "#%%\n"
    }
   }
  },
  {
   "cell_type": "code",
   "execution_count": 24,
   "outputs": [
    {
     "name": "stdout",
     "output_type": "stream",
     "text": [
      "CharRNN(\n",
      "  (lstm): LSTM(83, 512, num_layers=2, batch_first=True, dropout=0.5)\n",
      "  (dropout): Dropout(p=0.5, inplace=False)\n",
      "  (fc): Linear(in_features=512, out_features=83, bias=True)\n",
      ")\n"
     ]
    }
   ],
   "source": [
    "# define and print the net\n",
    "net = CharRNN(chars, n_hidden=512, n_layers=2)\n",
    "print(net)"
   ],
   "metadata": {
    "collapsed": false,
    "pycharm": {
     "name": "#%%\n"
    }
   }
  },
  {
   "cell_type": "code",
   "execution_count": 25,
   "outputs": [],
   "source": [
    "opt = torch.optim.Adam(net.parameters(), lr=0.0001)\n",
    "criterion = nn.CrossEntropyLoss()"
   ],
   "metadata": {
    "collapsed": false,
    "pycharm": {
     "name": "#%%\n"
    }
   }
  },
  {
   "cell_type": "code",
   "execution_count": 26,
   "outputs": [],
   "source": [
    "## ---- keep notebook from crashing during training --- ##\n",
    "import time\n",
    "\n",
    "def train(net, data, epochs=10, n_seqs=10, n_steps=50, lr=0.001, clip=5, val_frac=0.1, cuda=False, print_every=10):\n",
    "    ''' Training a network\n",
    "\n",
    "        Arguments\n",
    "        ---------\n",
    "\n",
    "        net: CharRNN network\n",
    "        data: text data to train the network\n",
    "        epochs: Number of epochs to train\n",
    "        n_seqs: Number of mini-sequences per mini-batch, aka batch size\n",
    "        n_steps: Number of character steps per mini-batch\n",
    "        lr: learning rate\n",
    "        clip: gradient clipping\n",
    "        val_frac: Fraction of data to hold out for validation\n",
    "        cuda: Train with CUDA on a GPU\n",
    "        print_every: Number of steps for printing training and validation loss\n",
    "\n",
    "    '''\n",
    "\n",
    "    net.train()\n",
    "    # opt = torch.optim.Adam(net.parameters(), lr=lr)\n",
    "    # criterion = nn.CrossEntropyLoss()\n",
    "\n",
    "    # create training and validation data\n",
    "    val_idx = int(len(data)*(1-val_frac))\n",
    "    data, val_data = data[:val_idx], data[val_idx:]\n",
    "\n",
    "    if cuda:\n",
    "        net.to(device)\n",
    "\n",
    "    counter = 0\n",
    "    n_chars = len(net.chars)\n",
    "\n",
    "    old_time = time.time()\n",
    "\n",
    "    for e in range(epochs):\n",
    "        h = net.init_hidden(n_seqs)\n",
    "        for x, y in get_batches(data, n_seqs, n_steps):\n",
    "\n",
    "            if time.time() - old_time > 60:\n",
    "                old_time = time.time()\n",
    "\n",
    "            counter += 1\n",
    "\n",
    "            # One-hot encode our data and make them Torch tensors\n",
    "            x = one_hot_encode(x, n_chars)\n",
    "            inputs, targets = torch.from_numpy(x), torch.from_numpy(y)\n",
    "\n",
    "            if cuda:\n",
    "                inputs, targets = inputs.to(device), targets.to(device)\n",
    "\n",
    "            # Creating new variables for the hidden state, otherwise\n",
    "            # we'd backprop through the entire training history\n",
    "            h = tuple([each.data for each in h])\n",
    "\n",
    "            net.zero_grad()\n",
    "\n",
    "            output, h = net.forward(inputs, h)\n",
    "            targets = targets.type(torch.LongTensor)\n",
    "            loss = criterion(output.to(device), targets.view(n_seqs*n_steps).to(device))\n",
    "\n",
    "            loss.backward()\n",
    "\n",
    "            # `clip_grad_norm` helps prevent the exploding gradient problem in RNNs / LSTMs.\n",
    "            nn.utils.clip_grad_norm_(net.parameters(), clip)\n",
    "\n",
    "            opt.step()\n",
    "\n",
    "            if counter % print_every == 0:\n",
    "\n",
    "                # Get validation loss\n",
    "                val_h = net.init_hidden(n_seqs)\n",
    "                val_losses = []\n",
    "                for x, y in get_batches(val_data, n_seqs, n_steps):\n",
    "                    # One-hot encode our data and make them Torch tensors\n",
    "                    x = one_hot_encode(x, n_chars)\n",
    "                    x, y = torch.from_numpy(x), torch.from_numpy(y)\n",
    "\n",
    "                    # Creating new variables for the hidden state, otherwise\n",
    "                    # we'd backprop through the entire training history\n",
    "                    val_h = tuple([each.data for each in val_h])\n",
    "\n",
    "                    inputs, targets = x, y\n",
    "                    if cuda:\n",
    "                        inputs, targets = inputs.to(device), targets.to(device)\n",
    "\n",
    "                    targets = targets.type(torch.LongTensor)\n",
    "\n",
    "                    output, val_h = net.forward(inputs, val_h)\n",
    "                    val_loss = criterion(output.to(device), targets.view(n_seqs*n_steps).to(device))\n",
    "\n",
    "                    val_losses.append(val_loss.item())\n",
    "\n",
    "                print(\"Epoch: {}/{}...\".format(e+1, epochs),\n",
    "                      \"Step: {}...\".format(counter),\n",
    "                      \"Loss: {:.4f}...\".format(loss.item()),\n",
    "                      \"Val Loss: {:.4f}\".format(np.mean(val_losses)))"
   ],
   "metadata": {
    "collapsed": false,
    "pycharm": {
     "name": "#%%\n"
    }
   }
  },
  {
   "cell_type": "markdown",
   "source": [
    "## Time to train\n",
    "\n",
    "Now we can actually train the network. First we'll create the network itself, with some given hyperparameters. Then, define the mini-batches sizes (number of sequences and number of steps), and start the training. With the train function, we can set the number of epochs, the learning rate, and other parameters. Also, we can run the training on a GPU by setting `cuda=True`."
   ],
   "metadata": {
    "collapsed": false,
    "pycharm": {
     "name": "#%% md\n"
    }
   }
  },
  {
   "cell_type": "code",
   "execution_count": 27,
   "outputs": [],
   "source": [
    "# if 'net' in locals():\n",
    "#     del net"
   ],
   "metadata": {
    "collapsed": false,
    "pycharm": {
     "name": "#%%\n"
    }
   }
  },
  {
   "cell_type": "code",
   "execution_count": 28,
   "outputs": [],
   "source": [
    "# # define and print the net\n",
    "# net = CharRNN(chars, n_hidden=512, n_layers=2)\n",
    "# print(net)"
   ],
   "metadata": {
    "collapsed": false,
    "pycharm": {
     "name": "#%%\n"
    }
   }
  },
  {
   "cell_type": "code",
   "execution_count": 29,
   "outputs": [
    {
     "name": "stdout",
     "output_type": "stream",
     "text": [
      "Epoch: 1/80... Step: 10... Loss: 3.9137... Val Loss: 3.8650\n",
      "Epoch: 1/80... Step: 20... Loss: 3.5443... Val Loss: 3.5136\n",
      "Epoch: 1/80... Step: 30... Loss: 3.4020... Val Loss: 3.4028\n",
      "Epoch: 1/80... Step: 40... Loss: 3.3388... Val Loss: 3.3452\n",
      "Epoch: 2/80... Step: 50... Loss: 3.3013... Val Loss: 3.3125\n",
      "Epoch: 2/80... Step: 60... Loss: 3.2767... Val Loss: 3.2887\n",
      "Epoch: 2/80... Step: 70... Loss: 3.2716... Val Loss: 3.2706\n",
      "Epoch: 2/80... Step: 80... Loss: 3.2658... Val Loss: 3.2542\n",
      "Epoch: 2/80... Step: 90... Loss: 3.2323... Val Loss: 3.2401\n",
      "Epoch: 3/80... Step: 100... Loss: 3.2216... Val Loss: 3.2231\n",
      "Epoch: 3/80... Step: 110... Loss: 3.1983... Val Loss: 3.2073\n",
      "Epoch: 3/80... Step: 120... Loss: 3.1755... Val Loss: 3.1882\n",
      "Epoch: 3/80... Step: 130... Loss: 3.1772... Val Loss: 3.1684\n",
      "Epoch: 4/80... Step: 140... Loss: 3.1462... Val Loss: 3.1451\n",
      "Epoch: 4/80... Step: 150... Loss: 3.1060... Val Loss: 3.1217\n",
      "Epoch: 4/80... Step: 160... Loss: 3.0962... Val Loss: 3.0902\n",
      "Epoch: 4/80... Step: 170... Loss: 3.0538... Val Loss: 3.0627\n",
      "Epoch: 4/80... Step: 180... Loss: 3.0293... Val Loss: 3.0251\n",
      "Epoch: 5/80... Step: 190... Loss: 2.9811... Val Loss: 2.9906\n",
      "Epoch: 5/80... Step: 200... Loss: 2.9350... Val Loss: 2.9547\n",
      "Epoch: 5/80... Step: 210... Loss: 2.9111... Val Loss: 2.9182\n",
      "Epoch: 5/80... Step: 220... Loss: 2.8574... Val Loss: 2.8733\n",
      "Epoch: 5/80... Step: 230... Loss: 2.8280... Val Loss: 2.8392\n",
      "Epoch: 6/80... Step: 240... Loss: 2.7887... Val Loss: 2.8025\n",
      "Epoch: 6/80... Step: 250... Loss: 2.7758... Val Loss: 2.7733\n",
      "Epoch: 6/80... Step: 260... Loss: 2.7164... Val Loss: 2.7466\n",
      "Epoch: 6/80... Step: 270... Loss: 2.7048... Val Loss: 2.7236\n",
      "Epoch: 7/80... Step: 280... Loss: 2.6785... Val Loss: 2.7037\n",
      "Epoch: 7/80... Step: 290... Loss: 2.6635... Val Loss: 2.6867\n",
      "Epoch: 7/80... Step: 300... Loss: 2.6612... Val Loss: 2.6694\n",
      "Epoch: 7/80... Step: 310... Loss: 2.6386... Val Loss: 2.6541\n",
      "Epoch: 7/80... Step: 320... Loss: 2.6134... Val Loss: 2.6406\n",
      "Epoch: 8/80... Step: 330... Loss: 2.5995... Val Loss: 2.6289\n",
      "Epoch: 8/80... Step: 340... Loss: 2.5843... Val Loss: 2.6156\n",
      "Epoch: 8/80... Step: 350... Loss: 2.5811... Val Loss: 2.6093\n",
      "Epoch: 8/80... Step: 360... Loss: 2.5730... Val Loss: 2.5941\n",
      "Epoch: 9/80... Step: 370... Loss: 2.5742... Val Loss: 2.5858\n",
      "Epoch: 9/80... Step: 380... Loss: 2.5467... Val Loss: 2.5756\n",
      "Epoch: 9/80... Step: 390... Loss: 2.5547... Val Loss: 2.5684\n",
      "Epoch: 9/80... Step: 400... Loss: 2.5309... Val Loss: 2.5605\n",
      "Epoch: 9/80... Step: 410... Loss: 2.5281... Val Loss: 2.5509\n",
      "Epoch: 10/80... Step: 420... Loss: 2.5137... Val Loss: 2.5465\n",
      "Epoch: 10/80... Step: 430... Loss: 2.4975... Val Loss: 2.5354\n",
      "Epoch: 10/80... Step: 440... Loss: 2.4963... Val Loss: 2.5284\n",
      "Epoch: 10/80... Step: 450... Loss: 2.4894... Val Loss: 2.5195\n",
      "Epoch: 10/80... Step: 460... Loss: 2.4883... Val Loss: 2.5146\n",
      "Epoch: 11/80... Step: 470... Loss: 2.4876... Val Loss: 2.5074\n",
      "Epoch: 11/80... Step: 480... Loss: 2.4824... Val Loss: 2.5003\n",
      "Epoch: 11/80... Step: 490... Loss: 2.4467... Val Loss: 2.4969\n",
      "Epoch: 11/80... Step: 500... Loss: 2.4560... Val Loss: 2.4885\n",
      "Epoch: 12/80... Step: 510... Loss: 2.4317... Val Loss: 2.4811\n",
      "Epoch: 12/80... Step: 520... Loss: 2.4423... Val Loss: 2.4800\n",
      "Epoch: 12/80... Step: 530... Loss: 2.4504... Val Loss: 2.4722\n",
      "Epoch: 12/80... Step: 540... Loss: 2.4409... Val Loss: 2.4645\n",
      "Epoch: 12/80... Step: 550... Loss: 2.4177... Val Loss: 2.4596\n",
      "Epoch: 13/80... Step: 560... Loss: 2.4042... Val Loss: 2.4553\n",
      "Epoch: 13/80... Step: 570... Loss: 2.4062... Val Loss: 2.4503\n",
      "Epoch: 13/80... Step: 580... Loss: 2.4064... Val Loss: 2.4461\n",
      "Epoch: 13/80... Step: 590... Loss: 2.4009... Val Loss: 2.4415\n",
      "Epoch: 14/80... Step: 600... Loss: 2.4052... Val Loss: 2.4353\n",
      "Epoch: 14/80... Step: 610... Loss: 2.3889... Val Loss: 2.4284\n",
      "Epoch: 14/80... Step: 620... Loss: 2.3938... Val Loss: 2.4260\n",
      "Epoch: 14/80... Step: 630... Loss: 2.3771... Val Loss: 2.4194\n",
      "Epoch: 14/80... Step: 640... Loss: 2.3738... Val Loss: 2.4172\n",
      "Epoch: 15/80... Step: 650... Loss: 2.3655... Val Loss: 2.4128\n",
      "Epoch: 15/80... Step: 660... Loss: 2.3547... Val Loss: 2.4103\n",
      "Epoch: 15/80... Step: 670... Loss: 2.3596... Val Loss: 2.4049\n",
      "Epoch: 15/80... Step: 680... Loss: 2.3595... Val Loss: 2.4039\n",
      "Epoch: 15/80... Step: 690... Loss: 2.3457... Val Loss: 2.3971\n",
      "Epoch: 16/80... Step: 700... Loss: 2.3540... Val Loss: 2.3918\n",
      "Epoch: 16/80... Step: 710... Loss: 2.3422... Val Loss: 2.3882\n",
      "Epoch: 16/80... Step: 720... Loss: 2.3199... Val Loss: 2.3857\n",
      "Epoch: 16/80... Step: 730... Loss: 2.3293... Val Loss: 2.3821\n",
      "Epoch: 17/80... Step: 740... Loss: 2.3149... Val Loss: 2.3795\n",
      "Epoch: 17/80... Step: 750... Loss: 2.3254... Val Loss: 2.3752\n",
      "Epoch: 17/80... Step: 760... Loss: 2.3254... Val Loss: 2.3729\n",
      "Epoch: 17/80... Step: 770... Loss: 2.3181... Val Loss: 2.3679\n",
      "Epoch: 17/80... Step: 780... Loss: 2.2929... Val Loss: 2.3631\n",
      "Epoch: 18/80... Step: 790... Loss: 2.2873... Val Loss: 2.3588\n",
      "Epoch: 18/80... Step: 800... Loss: 2.2841... Val Loss: 2.3585\n",
      "Epoch: 18/80... Step: 810... Loss: 2.2942... Val Loss: 2.3528\n",
      "Epoch: 18/80... Step: 820... Loss: 2.2867... Val Loss: 2.3614\n",
      "Epoch: 19/80... Step: 830... Loss: 2.3020... Val Loss: 2.3525\n",
      "Epoch: 19/80... Step: 840... Loss: 2.2779... Val Loss: 2.3462\n",
      "Epoch: 19/80... Step: 850... Loss: 2.2944... Val Loss: 2.3445\n",
      "Epoch: 19/80... Step: 860... Loss: 2.2781... Val Loss: 2.3441\n",
      "Epoch: 19/80... Step: 870... Loss: 2.2744... Val Loss: 2.3374\n",
      "Epoch: 20/80... Step: 880... Loss: 2.2627... Val Loss: 2.3371\n",
      "Epoch: 20/80... Step: 890... Loss: 2.2591... Val Loss: 2.3276\n",
      "Epoch: 20/80... Step: 900... Loss: 2.2596... Val Loss: 2.3279\n",
      "Epoch: 20/80... Step: 910... Loss: 2.2679... Val Loss: 2.3211\n",
      "Epoch: 20/80... Step: 920... Loss: 2.2496... Val Loss: 2.3176\n",
      "Epoch: 21/80... Step: 930... Loss: 2.2648... Val Loss: 2.3157\n",
      "Epoch: 21/80... Step: 940... Loss: 2.2524... Val Loss: 2.3129\n",
      "Epoch: 21/80... Step: 950... Loss: 2.2205... Val Loss: 2.3070\n",
      "Epoch: 21/80... Step: 960... Loss: 2.2411... Val Loss: 2.3071\n",
      "Epoch: 22/80... Step: 970... Loss: 2.2174... Val Loss: 2.3052\n",
      "Epoch: 22/80... Step: 980... Loss: 2.2299... Val Loss: 2.2996\n",
      "Epoch: 22/80... Step: 990... Loss: 2.2351... Val Loss: 2.2937\n",
      "Epoch: 22/80... Step: 1000... Loss: 2.2194... Val Loss: 2.2911\n",
      "Epoch: 22/80... Step: 1010... Loss: 2.2109... Val Loss: 2.2875\n",
      "Epoch: 23/80... Step: 1020... Loss: 2.1983... Val Loss: 2.2854\n",
      "Epoch: 23/80... Step: 1030... Loss: 2.1993... Val Loss: 2.2805\n",
      "Epoch: 23/80... Step: 1040... Loss: 2.2079... Val Loss: 2.2760\n",
      "Epoch: 23/80... Step: 1050... Loss: 2.1971... Val Loss: 2.2744\n",
      "Epoch: 24/80... Step: 1060... Loss: 2.1998... Val Loss: 2.2707\n",
      "Epoch: 24/80... Step: 1070... Loss: 2.1889... Val Loss: 2.2701\n",
      "Epoch: 24/80... Step: 1080... Loss: 2.1932... Val Loss: 2.2641\n",
      "Epoch: 24/80... Step: 1090... Loss: 2.1937... Val Loss: 2.2634\n",
      "Epoch: 24/80... Step: 1100... Loss: 2.1866... Val Loss: 2.2575\n",
      "Epoch: 25/80... Step: 1110... Loss: 2.1708... Val Loss: 2.2542\n",
      "Epoch: 25/80... Step: 1120... Loss: 2.1672... Val Loss: 2.2557\n",
      "Epoch: 25/80... Step: 1130... Loss: 2.1717... Val Loss: 2.2486\n",
      "Epoch: 25/80... Step: 1140... Loss: 2.1846... Val Loss: 2.2464\n",
      "Epoch: 25/80... Step: 1150... Loss: 2.1676... Val Loss: 2.2436\n",
      "Epoch: 26/80... Step: 1160... Loss: 2.1810... Val Loss: 2.2363\n",
      "Epoch: 26/80... Step: 1170... Loss: 2.1735... Val Loss: 2.2335\n",
      "Epoch: 26/80... Step: 1180... Loss: 2.1402... Val Loss: 2.2307\n",
      "Epoch: 26/80... Step: 1190... Loss: 2.1614... Val Loss: 2.2278\n",
      "Epoch: 27/80... Step: 1200... Loss: 2.1334... Val Loss: 2.2289\n",
      "Epoch: 27/80... Step: 1210... Loss: 2.1472... Val Loss: 2.2232\n",
      "Epoch: 27/80... Step: 1220... Loss: 2.1566... Val Loss: 2.2212\n",
      "Epoch: 27/80... Step: 1230... Loss: 2.1428... Val Loss: 2.2214\n",
      "Epoch: 27/80... Step: 1240... Loss: 2.1301... Val Loss: 2.2182\n",
      "Epoch: 28/80... Step: 1250... Loss: 2.1093... Val Loss: 2.2083\n",
      "Epoch: 28/80... Step: 1260... Loss: 2.1292... Val Loss: 2.2078\n",
      "Epoch: 28/80... Step: 1270... Loss: 2.1342... Val Loss: 2.2044\n",
      "Epoch: 28/80... Step: 1280... Loss: 2.1295... Val Loss: 2.2069\n",
      "Epoch: 29/80... Step: 1290... Loss: 2.1231... Val Loss: 2.2010\n",
      "Epoch: 29/80... Step: 1300... Loss: 2.1148... Val Loss: 2.1995\n",
      "Epoch: 29/80... Step: 1310... Loss: 2.1181... Val Loss: 2.1998\n",
      "Epoch: 29/80... Step: 1320... Loss: 2.1190... Val Loss: 2.1938\n",
      "Epoch: 29/80... Step: 1330... Loss: 2.1130... Val Loss: 2.1926\n",
      "Epoch: 30/80... Step: 1340... Loss: 2.1050... Val Loss: 2.1870\n",
      "Epoch: 30/80... Step: 1350... Loss: 2.0923... Val Loss: 2.1832\n",
      "Epoch: 30/80... Step: 1360... Loss: 2.0935... Val Loss: 2.1787\n",
      "Epoch: 30/80... Step: 1370... Loss: 2.1158... Val Loss: 2.1813\n",
      "Epoch: 30/80... Step: 1380... Loss: 2.1021... Val Loss: 2.1780\n",
      "Epoch: 31/80... Step: 1390... Loss: 2.1055... Val Loss: 2.1745\n",
      "Epoch: 31/80... Step: 1400... Loss: 2.0980... Val Loss: 2.1690\n",
      "Epoch: 31/80... Step: 1410... Loss: 2.0696... Val Loss: 2.1681\n",
      "Epoch: 31/80... Step: 1420... Loss: 2.1003... Val Loss: 2.1680\n",
      "Epoch: 32/80... Step: 1430... Loss: 2.0692... Val Loss: 2.1618\n",
      "Epoch: 32/80... Step: 1440... Loss: 2.0766... Val Loss: 2.1616\n",
      "Epoch: 32/80... Step: 1450... Loss: 2.0896... Val Loss: 2.1617\n",
      "Epoch: 32/80... Step: 1460... Loss: 2.0681... Val Loss: 2.1599\n",
      "Epoch: 32/80... Step: 1470... Loss: 2.0654... Val Loss: 2.1538\n",
      "Epoch: 33/80... Step: 1480... Loss: 2.0385... Val Loss: 2.1505\n",
      "Epoch: 33/80... Step: 1490... Loss: 2.0675... Val Loss: 2.1497\n",
      "Epoch: 33/80... Step: 1500... Loss: 2.0699... Val Loss: 2.1418\n",
      "Epoch: 33/80... Step: 1510... Loss: 2.0632... Val Loss: 2.1427\n",
      "Epoch: 34/80... Step: 1520... Loss: 2.0505... Val Loss: 2.1392\n",
      "Epoch: 34/80... Step: 1530... Loss: 2.0434... Val Loss: 2.1341\n",
      "Epoch: 34/80... Step: 1540... Loss: 2.0548... Val Loss: 2.1403\n",
      "Epoch: 34/80... Step: 1550... Loss: 2.0639... Val Loss: 2.1421\n",
      "Epoch: 34/80... Step: 1560... Loss: 2.0490... Val Loss: 2.1326\n",
      "Epoch: 35/80... Step: 1570... Loss: 2.0416... Val Loss: 2.1288\n",
      "Epoch: 35/80... Step: 1580... Loss: 2.0331... Val Loss: 2.1274\n",
      "Epoch: 35/80... Step: 1590... Loss: 2.0190... Val Loss: 2.1225\n",
      "Epoch: 35/80... Step: 1600... Loss: 2.0454... Val Loss: 2.1221\n",
      "Epoch: 35/80... Step: 1610... Loss: 2.0329... Val Loss: 2.1246\n",
      "Epoch: 36/80... Step: 1620... Loss: 2.0437... Val Loss: 2.1184\n",
      "Epoch: 36/80... Step: 1630... Loss: 2.0308... Val Loss: 2.1118\n",
      "Epoch: 36/80... Step: 1640... Loss: 2.0232... Val Loss: 2.1244\n",
      "Epoch: 36/80... Step: 1650... Loss: 2.0382... Val Loss: 2.1155\n",
      "Epoch: 37/80... Step: 1660... Loss: 2.0125... Val Loss: 2.1130\n",
      "Epoch: 37/80... Step: 1670... Loss: 2.0245... Val Loss: 2.1114\n",
      "Epoch: 37/80... Step: 1680... Loss: 2.0279... Val Loss: 2.1074\n",
      "Epoch: 37/80... Step: 1690... Loss: 2.0180... Val Loss: 2.1050\n",
      "Epoch: 37/80... Step: 1700... Loss: 2.0081... Val Loss: 2.1005\n",
      "Epoch: 38/80... Step: 1710... Loss: 1.9921... Val Loss: 2.0936\n",
      "Epoch: 38/80... Step: 1720... Loss: 2.0028... Val Loss: 2.0948\n",
      "Epoch: 38/80... Step: 1730... Loss: 2.0097... Val Loss: 2.0900\n",
      "Epoch: 38/80... Step: 1740... Loss: 2.0045... Val Loss: 2.0902\n",
      "Epoch: 39/80... Step: 1750... Loss: 2.0023... Val Loss: 2.0836\n",
      "Epoch: 39/80... Step: 1760... Loss: 1.9910... Val Loss: 2.0819\n",
      "Epoch: 39/80... Step: 1770... Loss: 1.9983... Val Loss: 2.0800\n",
      "Epoch: 39/80... Step: 1780... Loss: 2.0000... Val Loss: 2.0870\n",
      "Epoch: 39/80... Step: 1790... Loss: 1.9945... Val Loss: 2.0817\n",
      "Epoch: 40/80... Step: 1800... Loss: 1.9803... Val Loss: 2.0745\n",
      "Epoch: 40/80... Step: 1810... Loss: 1.9703... Val Loss: 2.0715\n",
      "Epoch: 40/80... Step: 1820... Loss: 1.9660... Val Loss: 2.0728\n",
      "Epoch: 40/80... Step: 1830... Loss: 1.9928... Val Loss: 2.0713\n",
      "Epoch: 40/80... Step: 1840... Loss: 1.9790... Val Loss: 2.0654\n",
      "Epoch: 41/80... Step: 1850... Loss: 1.9891... Val Loss: 2.0668\n",
      "Epoch: 41/80... Step: 1860... Loss: 1.9850... Val Loss: 2.0659\n",
      "Epoch: 41/80... Step: 1870... Loss: 1.9562... Val Loss: 2.0615\n",
      "Epoch: 41/80... Step: 1880... Loss: 1.9916... Val Loss: 2.0630\n",
      "Epoch: 42/80... Step: 1890... Loss: 1.9620... Val Loss: 2.0561\n",
      "Epoch: 42/80... Step: 1900... Loss: 1.9700... Val Loss: 2.0574\n",
      "Epoch: 42/80... Step: 1910... Loss: 1.9798... Val Loss: 2.0536\n",
      "Epoch: 42/80... Step: 1920... Loss: 1.9608... Val Loss: 2.0528\n",
      "Epoch: 42/80... Step: 1930... Loss: 1.9566... Val Loss: 2.0509\n",
      "Epoch: 43/80... Step: 1940... Loss: 1.9309... Val Loss: 2.0437\n",
      "Epoch: 43/80... Step: 1950... Loss: 1.9466... Val Loss: 2.0510\n",
      "Epoch: 43/80... Step: 1960... Loss: 1.9566... Val Loss: 2.0447\n",
      "Epoch: 43/80... Step: 1970... Loss: 1.9503... Val Loss: 2.0370\n",
      "Epoch: 44/80... Step: 1980... Loss: 1.9456... Val Loss: 2.0362\n",
      "Epoch: 44/80... Step: 1990... Loss: 1.9350... Val Loss: 2.0375\n",
      "Epoch: 44/80... Step: 2000... Loss: 1.9454... Val Loss: 2.0353\n",
      "Epoch: 44/80... Step: 2010... Loss: 1.9432... Val Loss: 2.0308\n",
      "Epoch: 44/80... Step: 2020... Loss: 1.9404... Val Loss: 2.0365\n",
      "Epoch: 45/80... Step: 2030... Loss: 1.9361... Val Loss: 2.0337\n",
      "Epoch: 45/80... Step: 2040... Loss: 1.9220... Val Loss: 2.0261\n",
      "Epoch: 45/80... Step: 2050... Loss: 1.9132... Val Loss: 2.0240\n",
      "Epoch: 45/80... Step: 2060... Loss: 1.9445... Val Loss: 2.0281\n",
      "Epoch: 45/80... Step: 2070... Loss: 1.9324... Val Loss: 2.0232\n",
      "Epoch: 46/80... Step: 2080... Loss: 1.9442... Val Loss: 2.0165\n",
      "Epoch: 46/80... Step: 2090... Loss: 1.9390... Val Loss: 2.0125\n",
      "Epoch: 46/80... Step: 2100... Loss: 1.9143... Val Loss: 2.0156\n",
      "Epoch: 46/80... Step: 2110... Loss: 1.9333... Val Loss: 2.0090\n",
      "Epoch: 47/80... Step: 2120... Loss: 1.9028... Val Loss: 2.0075\n",
      "Epoch: 47/80... Step: 2130... Loss: 1.9236... Val Loss: 2.0079\n",
      "Epoch: 47/80... Step: 2140... Loss: 1.9304... Val Loss: 2.0092\n",
      "Epoch: 47/80... Step: 2150... Loss: 1.9108... Val Loss: 2.0023\n",
      "Epoch: 47/80... Step: 2160... Loss: 1.9008... Val Loss: 2.0027\n",
      "Epoch: 48/80... Step: 2170... Loss: 1.8850... Val Loss: 2.0029\n",
      "Epoch: 48/80... Step: 2180... Loss: 1.8986... Val Loss: 1.9943\n",
      "Epoch: 48/80... Step: 2190... Loss: 1.9071... Val Loss: 1.9965\n",
      "Epoch: 48/80... Step: 2200... Loss: 1.9071... Val Loss: 1.9902\n",
      "Epoch: 49/80... Step: 2210... Loss: 1.9013... Val Loss: 1.9948\n",
      "Epoch: 49/80... Step: 2220... Loss: 1.8893... Val Loss: 1.9875\n",
      "Epoch: 49/80... Step: 2230... Loss: 1.8920... Val Loss: 1.9856\n",
      "Epoch: 49/80... Step: 2240... Loss: 1.9017... Val Loss: 1.9901\n",
      "Epoch: 49/80... Step: 2250... Loss: 1.9003... Val Loss: 1.9828\n",
      "Epoch: 50/80... Step: 2260... Loss: 1.8899... Val Loss: 1.9805\n",
      "Epoch: 50/80... Step: 2270... Loss: 1.8812... Val Loss: 1.9783\n",
      "Epoch: 50/80... Step: 2280... Loss: 1.8684... Val Loss: 1.9805\n",
      "Epoch: 50/80... Step: 2290... Loss: 1.9020... Val Loss: 1.9787\n",
      "Epoch: 50/80... Step: 2300... Loss: 1.8774... Val Loss: 1.9738\n",
      "Epoch: 51/80... Step: 2310... Loss: 1.9063... Val Loss: 1.9717\n",
      "Epoch: 51/80... Step: 2320... Loss: 1.8874... Val Loss: 1.9785\n",
      "Epoch: 51/80... Step: 2330... Loss: 1.8590... Val Loss: 1.9724\n",
      "Epoch: 51/80... Step: 2340... Loss: 1.8780... Val Loss: 1.9719\n",
      "Epoch: 52/80... Step: 2350... Loss: 1.8705... Val Loss: 1.9706\n",
      "Epoch: 52/80... Step: 2360... Loss: 1.8744... Val Loss: 1.9622\n",
      "Epoch: 52/80... Step: 2370... Loss: 1.8739... Val Loss: 1.9613\n",
      "Epoch: 52/80... Step: 2380... Loss: 1.8756... Val Loss: 1.9697\n",
      "Epoch: 52/80... Step: 2390... Loss: 1.8610... Val Loss: 1.9639\n",
      "Epoch: 53/80... Step: 2400... Loss: 1.8354... Val Loss: 1.9702\n",
      "Epoch: 53/80... Step: 2410... Loss: 1.8521... Val Loss: 1.9615\n",
      "Epoch: 53/80... Step: 2420... Loss: 1.8649... Val Loss: 1.9532\n",
      "Epoch: 53/80... Step: 2430... Loss: 1.8641... Val Loss: 1.9579\n",
      "Epoch: 54/80... Step: 2440... Loss: 1.8556... Val Loss: 1.9574\n",
      "Epoch: 54/80... Step: 2450... Loss: 1.8456... Val Loss: 1.9560\n",
      "Epoch: 54/80... Step: 2460... Loss: 1.8519... Val Loss: 1.9535\n",
      "Epoch: 54/80... Step: 2470... Loss: 1.8592... Val Loss: 1.9537\n",
      "Epoch: 54/80... Step: 2480... Loss: 1.8567... Val Loss: 1.9424\n",
      "Epoch: 55/80... Step: 2490... Loss: 1.8355... Val Loss: 1.9400\n",
      "Epoch: 55/80... Step: 2500... Loss: 1.8378... Val Loss: 1.9595\n",
      "Epoch: 55/80... Step: 2510... Loss: 1.8252... Val Loss: 1.9432\n",
      "Epoch: 55/80... Step: 2520... Loss: 1.8597... Val Loss: 1.9461\n",
      "Epoch: 55/80... Step: 2530... Loss: 1.8444... Val Loss: 1.9443\n",
      "Epoch: 56/80... Step: 2540... Loss: 1.8535... Val Loss: 1.9423\n",
      "Epoch: 56/80... Step: 2550... Loss: 1.8468... Val Loss: 1.9351\n",
      "Epoch: 56/80... Step: 2560... Loss: 1.8219... Val Loss: 1.9342\n",
      "Epoch: 56/80... Step: 2570... Loss: 1.8445... Val Loss: 1.9303\n",
      "Epoch: 57/80... Step: 2580... Loss: 1.8406... Val Loss: 1.9349\n",
      "Epoch: 57/80... Step: 2590... Loss: 1.8415... Val Loss: 1.9303\n",
      "Epoch: 57/80... Step: 2600... Loss: 1.8371... Val Loss: 1.9311\n",
      "Epoch: 57/80... Step: 2610... Loss: 1.8243... Val Loss: 1.9257\n",
      "Epoch: 57/80... Step: 2620... Loss: 1.8243... Val Loss: 1.9243\n",
      "Epoch: 58/80... Step: 2630... Loss: 1.8007... Val Loss: 1.9234\n",
      "Epoch: 58/80... Step: 2640... Loss: 1.8098... Val Loss: 1.9199\n",
      "Epoch: 58/80... Step: 2650... Loss: 1.8356... Val Loss: 1.9237\n",
      "Epoch: 58/80... Step: 2660... Loss: 1.8267... Val Loss: 1.9185\n",
      "Epoch: 59/80... Step: 2670... Loss: 1.8166... Val Loss: 1.9205\n",
      "Epoch: 59/80... Step: 2680... Loss: 1.8089... Val Loss: 1.9249\n",
      "Epoch: 59/80... Step: 2690... Loss: 1.8186... Val Loss: 1.9178\n",
      "Epoch: 59/80... Step: 2700... Loss: 1.8156... Val Loss: 1.9162\n",
      "Epoch: 59/80... Step: 2710... Loss: 1.8246... Val Loss: 1.9119\n",
      "Epoch: 60/80... Step: 2720... Loss: 1.8071... Val Loss: 1.9139\n",
      "Epoch: 60/80... Step: 2730... Loss: 1.8037... Val Loss: 1.9102\n",
      "Epoch: 60/80... Step: 2740... Loss: 1.7968... Val Loss: 1.9093\n",
      "Epoch: 60/80... Step: 2750... Loss: 1.8196... Val Loss: 1.9081\n",
      "Epoch: 60/80... Step: 2760... Loss: 1.8084... Val Loss: 1.9078\n",
      "Epoch: 61/80... Step: 2770... Loss: 1.8259... Val Loss: 1.9102\n",
      "Epoch: 61/80... Step: 2780... Loss: 1.8068... Val Loss: 1.9040\n",
      "Epoch: 61/80... Step: 2790... Loss: 1.7879... Val Loss: 1.9011\n",
      "Epoch: 61/80... Step: 2800... Loss: 1.8080... Val Loss: 1.9012\n",
      "Epoch: 62/80... Step: 2810... Loss: 1.7902... Val Loss: 1.8949\n",
      "Epoch: 62/80... Step: 2820... Loss: 1.8048... Val Loss: 1.9001\n",
      "Epoch: 62/80... Step: 2830... Loss: 1.8078... Val Loss: 1.9039\n",
      "Epoch: 62/80... Step: 2840... Loss: 1.7881... Val Loss: 1.9008\n",
      "Epoch: 62/80... Step: 2850... Loss: 1.7891... Val Loss: 1.8970\n",
      "Epoch: 63/80... Step: 2860... Loss: 1.7615... Val Loss: 1.8930\n",
      "Epoch: 63/80... Step: 2870... Loss: 1.7779... Val Loss: 1.8879\n",
      "Epoch: 63/80... Step: 2880... Loss: 1.8003... Val Loss: 1.8994\n",
      "Epoch: 63/80... Step: 2890... Loss: 1.7992... Val Loss: 1.8922\n",
      "Epoch: 64/80... Step: 2900... Loss: 1.7831... Val Loss: 1.8956\n",
      "Epoch: 64/80... Step: 2910... Loss: 1.7761... Val Loss: 1.8881\n",
      "Epoch: 64/80... Step: 2920... Loss: 1.7800... Val Loss: 1.8847\n",
      "Epoch: 64/80... Step: 2930... Loss: 1.7831... Val Loss: 1.8891\n",
      "Epoch: 64/80... Step: 2940... Loss: 1.7855... Val Loss: 1.8863\n",
      "Epoch: 65/80... Step: 2950... Loss: 1.7748... Val Loss: 1.8917\n",
      "Epoch: 65/80... Step: 2960... Loss: 1.7708... Val Loss: 1.8844\n",
      "Epoch: 65/80... Step: 2970... Loss: 1.7629... Val Loss: 1.8814\n",
      "Epoch: 65/80... Step: 2980... Loss: 1.7918... Val Loss: 1.8804\n",
      "Epoch: 65/80... Step: 2990... Loss: 1.7702... Val Loss: 1.8816\n",
      "Epoch: 66/80... Step: 3000... Loss: 1.7864... Val Loss: 1.8817\n",
      "Epoch: 66/80... Step: 3010... Loss: 1.7713... Val Loss: 1.8793\n",
      "Epoch: 66/80... Step: 3020... Loss: 1.7487... Val Loss: 1.8760\n",
      "Epoch: 66/80... Step: 3030... Loss: 1.7744... Val Loss: 1.8728\n",
      "Epoch: 67/80... Step: 3040... Loss: 1.7616... Val Loss: 1.8729\n",
      "Epoch: 67/80... Step: 3050... Loss: 1.7768... Val Loss: 1.8720\n",
      "Epoch: 67/80... Step: 3060... Loss: 1.7774... Val Loss: 1.8762\n",
      "Epoch: 67/80... Step: 3070... Loss: 1.7542... Val Loss: 1.8708\n",
      "Epoch: 67/80... Step: 3080... Loss: 1.7558... Val Loss: 1.8621\n",
      "Epoch: 68/80... Step: 3090... Loss: 1.7317... Val Loss: 1.8728\n",
      "Epoch: 68/80... Step: 3100... Loss: 1.7520... Val Loss: 1.8712\n",
      "Epoch: 68/80... Step: 3110... Loss: 1.7618... Val Loss: 1.8653\n",
      "Epoch: 68/80... Step: 3120... Loss: 1.7528... Val Loss: 1.8619\n",
      "Epoch: 69/80... Step: 3130... Loss: 1.7546... Val Loss: 1.8705\n",
      "Epoch: 69/80... Step: 3140... Loss: 1.7440... Val Loss: 1.8597\n",
      "Epoch: 69/80... Step: 3150... Loss: 1.7423... Val Loss: 1.8638\n",
      "Epoch: 69/80... Step: 3160... Loss: 1.7601... Val Loss: 1.8645\n",
      "Epoch: 69/80... Step: 3170... Loss: 1.7605... Val Loss: 1.8660\n",
      "Epoch: 70/80... Step: 3180... Loss: 1.7469... Val Loss: 1.8575\n",
      "Epoch: 70/80... Step: 3190... Loss: 1.7387... Val Loss: 1.8669\n",
      "Epoch: 70/80... Step: 3200... Loss: 1.7347... Val Loss: 1.8554\n",
      "Epoch: 70/80... Step: 3210... Loss: 1.7570... Val Loss: 1.8537\n",
      "Epoch: 70/80... Step: 3220... Loss: 1.7452... Val Loss: 1.8546\n",
      "Epoch: 71/80... Step: 3230... Loss: 1.7604... Val Loss: 1.8591\n",
      "Epoch: 71/80... Step: 3240... Loss: 1.7423... Val Loss: 1.8543\n",
      "Epoch: 71/80... Step: 3250... Loss: 1.7213... Val Loss: 1.8513\n",
      "Epoch: 71/80... Step: 3260... Loss: 1.7466... Val Loss: 1.8494\n",
      "Epoch: 72/80... Step: 3270... Loss: 1.7404... Val Loss: 1.8482\n",
      "Epoch: 72/80... Step: 3280... Loss: 1.7473... Val Loss: 1.8548\n",
      "Epoch: 72/80... Step: 3290... Loss: 1.7463... Val Loss: 1.8548\n",
      "Epoch: 72/80... Step: 3300... Loss: 1.7282... Val Loss: 1.8502\n",
      "Epoch: 72/80... Step: 3310... Loss: 1.7276... Val Loss: 1.8407\n",
      "Epoch: 73/80... Step: 3320... Loss: 1.6995... Val Loss: 1.8396\n",
      "Epoch: 73/80... Step: 3330... Loss: 1.7266... Val Loss: 1.8488\n",
      "Epoch: 73/80... Step: 3340... Loss: 1.7284... Val Loss: 1.8377\n",
      "Epoch: 73/80... Step: 3350... Loss: 1.7443... Val Loss: 1.8402\n",
      "Epoch: 74/80... Step: 3360... Loss: 1.7359... Val Loss: 1.8541\n",
      "Epoch: 74/80... Step: 3370... Loss: 1.7346... Val Loss: 1.8409\n",
      "Epoch: 74/80... Step: 3380... Loss: 1.7193... Val Loss: 1.8387\n",
      "Epoch: 74/80... Step: 3390... Loss: 1.7295... Val Loss: 1.8378\n",
      "Epoch: 74/80... Step: 3400... Loss: 1.7303... Val Loss: 1.8328\n",
      "Epoch: 75/80... Step: 3410... Loss: 1.7250... Val Loss: 1.8409\n",
      "Epoch: 75/80... Step: 3420... Loss: 1.7094... Val Loss: 1.8354\n",
      "Epoch: 75/80... Step: 3430... Loss: 1.6988... Val Loss: 1.8321\n",
      "Epoch: 75/80... Step: 3440... Loss: 1.7282... Val Loss: 1.8292\n",
      "Epoch: 75/80... Step: 3450... Loss: 1.7184... Val Loss: 1.8348\n",
      "Epoch: 76/80... Step: 3460... Loss: 1.7312... Val Loss: 1.8388\n",
      "Epoch: 76/80... Step: 3470... Loss: 1.7146... Val Loss: 1.8308\n",
      "Epoch: 76/80... Step: 3480... Loss: 1.6987... Val Loss: 1.8280\n",
      "Epoch: 76/80... Step: 3490... Loss: 1.7188... Val Loss: 1.8329\n",
      "Epoch: 77/80... Step: 3500... Loss: 1.7034... Val Loss: 1.8294\n",
      "Epoch: 77/80... Step: 3510... Loss: 1.7159... Val Loss: 1.8305\n",
      "Epoch: 77/80... Step: 3520... Loss: 1.7110... Val Loss: 1.8238\n",
      "Epoch: 77/80... Step: 3530... Loss: 1.6984... Val Loss: 1.8219\n",
      "Epoch: 77/80... Step: 3540... Loss: 1.7038... Val Loss: 1.8229\n",
      "Epoch: 78/80... Step: 3550... Loss: 1.6720... Val Loss: 1.8228\n",
      "Epoch: 78/80... Step: 3560... Loss: 1.6870... Val Loss: 1.8241\n",
      "Epoch: 78/80... Step: 3570... Loss: 1.7075... Val Loss: 1.8172\n",
      "Epoch: 78/80... Step: 3580... Loss: 1.7081... Val Loss: 1.8168\n",
      "Epoch: 79/80... Step: 3590... Loss: 1.7005... Val Loss: 1.8148\n",
      "Epoch: 79/80... Step: 3600... Loss: 1.6924... Val Loss: 1.8162\n",
      "Epoch: 79/80... Step: 3610... Loss: 1.6925... Val Loss: 1.8176\n",
      "Epoch: 79/80... Step: 3620... Loss: 1.6999... Val Loss: 1.8197\n",
      "Epoch: 79/80... Step: 3630... Loss: 1.7046... Val Loss: 1.8133\n",
      "Epoch: 80/80... Step: 3640... Loss: 1.6945... Val Loss: 1.8159\n",
      "Epoch: 80/80... Step: 3650... Loss: 1.6762... Val Loss: 1.8106\n",
      "Epoch: 80/80... Step: 3660... Loss: 1.6763... Val Loss: 1.8112\n",
      "Epoch: 80/80... Step: 3670... Loss: 1.7082... Val Loss: 1.8087\n",
      "Epoch: 80/80... Step: 3680... Loss: 1.6891... Val Loss: 1.8077\n"
     ]
    }
   ],
   "source": [
    "torch.cuda.empty_cache()\n",
    "\n",
    "n_seqs, n_steps = 128, 300\n",
    "\n",
    "# you may change cuda to True if you plan on using a GPU!\n",
    "# also, if you do, please INCREASE the epochs to 25\n",
    "\n",
    "# Open the training log file.\n",
    "log_file = 'training_log.txt'\n",
    "f = open(log_file, 'w')\n",
    "\n",
    "# TRAIN\n",
    "train(net, encoded, epochs=80, n_seqs=n_seqs, n_steps=n_steps, lr=0.01, cuda=True, print_every=10)\n",
    "\n",
    "# Close the training log file.\n",
    "f.close()\n"
   ],
   "metadata": {
    "collapsed": false,
    "pycharm": {
     "name": "#%%\n"
    }
   }
  },
  {
   "cell_type": "markdown",
   "source": [
    "## Getting the best model\n",
    "\n",
    "To set your hyperparameters to get the best performance, you'll want to watch the training and validation losses. If your training loss is much lower than the validation loss, you're overfitting. Increase regularization (more dropout) or use a smaller network. If the training and validation losses are close, you're underfitting so you can increase the size of the network."
   ],
   "metadata": {
    "collapsed": false,
    "pycharm": {
     "name": "#%% md\n"
    }
   }
  },
  {
   "cell_type": "markdown",
   "source": [
    "## Hyperparameters\n",
    "\n",
    "Here are the hyperparameters for the network.\n",
    "\n",
    "In defining the model:\n",
    "* `n_hidden` - The number of units in the hidden layers.\n",
    "* `n_layers` - Number of hidden LSTM layers to use.\n",
    "\n",
    "We assume that dropout probability and learning rate will be kept at the default, in this example.\n",
    "\n",
    "And in training:\n",
    "* `n_seqs` - Number of sequences running through the network in one pass.\n",
    "* `n_steps` - Number of characters in the sequence the network is trained on. Larger is better typically, the network will learn more long range dependencies. But it takes longer to train. 100 is typically a good number here.\n",
    "* `lr` - Learning rate for training\n",
    "\n",
    "Here's some good advice from Andrej Karpathy on training the network. I'm going to copy it in here for your benefit, but also link to [where it originally came from](https://github.com/karpathy/char-rnn#tips-and-tricks).\n",
    "\n",
    "> ## Tips and Tricks\n",
    "\n",
    ">### Monitoring Validation Loss vs. Training Loss\n",
    ">If you're somewhat new to Machine Learning or Neural Networks it can take a bit of expertise to get good models. The most important quantity to keep track of is the difference between your training loss (printed during training) and the validation loss (printed once in a while when the RNN is run on the validation data (by default every 1000 iterations)). In particular:\n",
    "\n",
    "> - If your training loss is much lower than validation loss then this means the network might be **overfitting**. Solutions to this are to decrease your network size, or to increase dropout. For example you could try dropout of 0.5 and so on.\n",
    "> - If your training/validation loss are about equal then your model is **underfitting**. Increase the size of your model (either number of layers or the raw number of neurons per layer)\n",
    "\n",
    "> ### Approximate number of parameters\n",
    "\n",
    "> The two most important parameters that control the model are `n_hidden` and `n_layers`. I would advise that you always use `n_layers` of either 2/3. The `n_hidden` can be adjusted based on how much data you have. The two important quantities to keep track of here are:\n",
    "\n",
    "> - The number of parameters in your model. This is printed when you start training.\n",
    "> - The size of your dataset. 1MB file is approximately 1 million characters.\n",
    "\n",
    ">These two should be about the same order of magnitude. It's a little tricky to tell. Here are some examples:\n",
    "\n",
    "> - I have a 100MB dataset and I'm using the default parameter settings (which currently print 150K parameters). My data size is significantly larger (100 mil >> 0.15 mil), so I expect to heavily underfit. I am thinking I can comfortably afford to make `n_hidden` larger.\n",
    "> - I have a 10MB dataset and running a 10 million parameter model. I'm slightly nervous and I'm carefully monitoring my validation loss. If it's larger than my training loss then I may want to try to increase dropout a bit and see if that helps the validation loss.\n",
    "\n",
    "> ### Best models strategy\n",
    "\n",
    ">The winning strategy to obtaining very good models (if you have the compute time) is to always err on making the network larger (as large as you're willing to wait for it to compute) and then try different dropout values (between 0,1). Whatever model has the best validation performance (the loss, written in the checkpoint filename, low is good) is the one you should use in the end.\n",
    "\n",
    ">It is very common in deep learning to run many different models with many different hyperparameter settings, and in the end take whatever checkpoint gave the best validation performance.\n",
    "\n",
    ">By the way, the size of your training and validation splits are also parameters. Make sure you have a decent amount of data in your validation set or otherwise the validation performance will be noisy and not very informative."
   ],
   "metadata": {
    "collapsed": false,
    "pycharm": {
     "name": "#%% md\n"
    }
   }
  },
  {
   "cell_type": "markdown",
   "source": [
    "## Hyperparameters\n",
    "\n",
    "Here are the hyperparameters for the network.\n",
    "\n",
    "In defining the model:\n",
    "* `n_hidden` - The number of units in the hidden layers.\n",
    "* `n_layers` - Number of hidden LSTM layers to use.\n",
    "\n",
    "We assume that dropout probability and learning rate will be kept at the default, in this example.\n",
    "\n",
    "And in training:\n",
    "* `n_seqs` - Number of sequences running through the network in one pass.\n",
    "* `n_steps` - Number of characters in the sequence the network is trained on. Larger is better typically, the network will learn more long range dependencies. But it takes longer to train. 100 is typically a good number here.\n",
    "* `lr` - Learning rate for training\n",
    "\n",
    "Here's some good advice from Andrej Karpathy on training the network. I'm going to copy it in here for your benefit, but also link to [where it originally came from](https://github.com/karpathy/char-rnn#tips-and-tricks).\n",
    "\n",
    "> ## Tips and Tricks\n",
    "\n",
    ">### Monitoring Validation Loss vs. Training Loss\n",
    ">If you're somewhat new to Machine Learning or Neural Networks it can take a bit of expertise to get good models. The most important quantity to keep track of is the difference between your training loss (printed during training) and the validation loss (printed once in a while when the RNN is run on the validation data (by default every 1000 iterations)). In particular:\n",
    "\n",
    "> - If your training loss is much lower than validation loss then this means the network might be **overfitting**. Solutions to this are to decrease your network size, or to increase dropout. For example you could try dropout of 0.5 and so on.\n",
    "> - If your training/validation loss are about equal then your model is **underfitting**. Increase the size of your model (either number of layers or the raw number of neurons per layer)\n",
    "\n",
    "> ### Approximate number of parameters\n",
    "\n",
    "> The two most important parameters that control the model are `n_hidden` and `n_layers`. I would advise that you always use `n_layers` of either 2/3. The `n_hidden` can be adjusted based on how much data you have. The two important quantities to keep track of here are:\n",
    "\n",
    "> - The number of parameters in your model. This is printed when you start training.\n",
    "> - The size of your dataset. 1MB file is approximately 1 million characters.\n",
    "\n",
    ">These two should be about the same order of magnitude. It's a little tricky to tell. Here are some examples:\n",
    "\n",
    "> - I have a 100MB dataset and I'm using the default parameter settings (which currently print 150K parameters). My data size is significantly larger (100 mil >> 0.15 mil), so I expect to heavily underfit. I am thinking I can comfortably afford to make `n_hidden` larger.\n",
    "> - I have a 10MB dataset and running a 10 million parameter model. I'm slightly nervous and I'm carefully monitoring my validation loss. If it's larger than my training loss then I may want to try to increase dropout a bit and see if that helps the validation loss.\n",
    "\n",
    "> ### Best models strategy\n",
    "\n",
    ">The winning strategy to obtaining very good models (if you have the compute time) is to always err on making the network larger (as large as you're willing to wait for it to compute) and then try different dropout values (between 0,1). Whatever model has the best validation performance (the loss, written in the checkpoint filename, low is good) is the one you should use in the end.\n",
    "\n",
    ">It is very common in deep learning to run many different models with many different hyperparameter settings, and in the end take whatever checkpoint gave the best validation performance.\n",
    "\n",
    ">By the way, the size of your training and validation splits are also parameters. Make sure you have a decent amount of data in your validation set or otherwise the validation performance will be noisy and not very informative."
   ],
   "metadata": {
    "collapsed": false,
    "pycharm": {
     "name": "#%% md\n"
    }
   }
  },
  {
   "cell_type": "code",
   "execution_count": 30,
   "outputs": [],
   "source": [
    "# change the name, for saving multiple files\n",
    "model_name = 'rnn_1_epoch.net'\n",
    "\n",
    "checkpoint = {'n_hidden': net.n_hidden,\n",
    "              'n_layers': net.n_layers,\n",
    "              'state_dict': net.state_dict(),\n",
    "              'tokens': net.chars}\n",
    "\n",
    "with open(model_name, 'wb') as f:\n",
    "    torch.save(checkpoint, f)"
   ],
   "metadata": {
    "collapsed": false,
    "pycharm": {
     "name": "#%%\n"
    }
   }
  },
  {
   "cell_type": "markdown",
   "source": [],
   "metadata": {
    "collapsed": false,
    "pycharm": {
     "name": "#%% md\n"
    }
   }
  },
  {
   "cell_type": "markdown",
   "source": [
    "## Sampling\n",
    "\n",
    "Now that the model is trained, we'll want to sample from it. To sample, we pass in a character and have the network predict the next character. Then we take that character, pass it back in, and get another predicted character. Just keep doing this and you'll generate a bunch of text!\n",
    "\n",
    "### Top K sampling\n",
    "\n",
    "Our predictions come from a categorcial probability distribution over all the possible characters. We can make the sample text and make it more reasonable to handle (with less variables) by only considering some $K$ most probable characters. This will prevent the network from giving us completely absurd characters while allowing it to introduce some noise and randomness into the sampled text.\n",
    "\n",
    "Typically you'll want to prime the network so you can build up a hidden state. Otherwise the network will start out generating characters at random. In general the first bunch of characters will be a little rough since it hasn't built up a long history of characters to predict from."
   ],
   "metadata": {
    "collapsed": false,
    "pycharm": {
     "name": "#%% md\n"
    }
   }
  },
  {
   "cell_type": "code",
   "execution_count": 31,
   "outputs": [],
   "source": [
    "def sample(net, size, prime='The', top_k=None, cuda=False):\n",
    "\n",
    "    if cuda:\n",
    "        net.cuda()\n",
    "    else:\n",
    "        net.cpu()\n",
    "\n",
    "    net.eval()\n",
    "\n",
    "    # First off, run through the prime characters\n",
    "    chars = [ch for ch in prime]\n",
    "    h = net.init_hidden(1)\n",
    "    for ch in prime:\n",
    "        char, h = net.predict(ch, h, cuda=cuda, top_k=top_k)\n",
    "\n",
    "    chars.append(char)\n",
    "\n",
    "    # Now pass in the previous character and get a new one\n",
    "    for ii in range(size):\n",
    "        char, h = net.predict(chars[-1], h, cuda=cuda, top_k=top_k)\n",
    "        chars.append(char)\n",
    "\n",
    "    return ''.join(chars)"
   ],
   "metadata": {
    "collapsed": false,
    "pycharm": {
     "name": "#%%\n"
    }
   }
  },
  {
   "cell_type": "code",
   "execution_count": 32,
   "outputs": [
    {
     "name": "stdout",
     "output_type": "stream",
     "text": [
      "Annas to a mome himses, and and allowed the mintter of all her the\n",
      "waser he had thing were the consconacion of his with themething and\n",
      "she helped, but strings, whome he was to she heard his heart the him,\n",
      "and she had her tolk a some timest a consion of that herese a dispore on\n",
      "the sand the could befieving him to be and that had been to anding\n",
      "them, and andersting the moried the moth that the pleess on he\n",
      "cares and was to antwe to the carrat whene the milet ond weally though to\n",
      "his said, had to he was soring as it all them. The corlice at in the\n",
      "conserating hands, at allow himees and alother that that sterng the\n",
      "could an this workes to he had and she to be her, he had not stepling the\n",
      "same of her this to the parrait of her have and and the with her some,\n",
      "and stood herss of she was a speasa of all other to as she had becale\n",
      "the pationant with thit the presticat were has but that the seep as he\n",
      "could now to she she saw that the sarrighen soriget and somition of\n",
      "her, and she said of she had seeped a the farteds, and she days the prine\n",
      "them to the soming had but him there was atinging his heart, betorted\n",
      "the sond with siding as thrie consen to at it a sent of at to this with\n",
      "his sonce wile of her had her. The parings, his wanch which her hel\n",
      "to her had and thriek at of his with and a sto lat it, and\n",
      "said and hinder of the romom.\n",
      "\n",
      "This comporiot was a tore and want a sore, and women she said, so fell\n",
      "than a mad her hadr he were so metther of his wiff which to her\n",
      "stook to a the wont and the sand her had booked and thempless in the\n",
      "pronichion while he had been sand her a concess and hance,\" a wonked to\n",
      "him,\n",
      "leadling the cateres and shilitely, well her and his house to thie the\n",
      "partiry were or his some and and that the possetion on the same.\n",
      "\n",
      "\n",
      "\"Came, the down a stalk, and thought a chelt the poster in a chate.\"\n",
      "\n",
      "\"I may, well you, went all the containe is that have they has she were\n",
      "at indanting in the same of the stept, and he was to the morist him,\n",
      "who was not the conloor with \n"
     ]
    }
   ],
   "source": [
    "print(sample(net, 2000, prime='Anna', top_k=5, cuda=False))"
   ],
   "metadata": {
    "collapsed": false,
    "pycharm": {
     "name": "#%%\n"
    }
   }
  },
  {
   "cell_type": "code",
   "execution_count": 33,
   "outputs": [
    {
     "data": {
      "text/plain": "<All keys matched successfully>"
     },
     "execution_count": 33,
     "metadata": {},
     "output_type": "execute_result"
    }
   ],
   "source": [
    "# Here we have loaded in a model that trained over 1 epoch `rnn_1_epoch.net`\n",
    "with open('rnn_1_epoch.net', 'rb') as f:\n",
    "    checkpoint = torch.load(f)\n",
    "\n",
    "loaded = CharRNN(checkpoint['tokens'], n_hidden=checkpoint['n_hidden'], n_layers=checkpoint['n_layers'])\n",
    "loaded.load_state_dict(checkpoint['state_dict'])"
   ],
   "metadata": {
    "collapsed": false,
    "pycharm": {
     "name": "#%%\n"
    }
   }
  },
  {
   "cell_type": "code",
   "execution_count": 34,
   "outputs": [
    {
     "name": "stdout",
     "output_type": "stream",
     "text": [
      "And Levin said than sather her tushing out to batk the his must\n",
      "his she teemed and which his hand him and with she was the sittres, the\n",
      "crommored. And this stind was still at the pase, as he would be\n",
      "the stopt of indiraritable, and when his forther heard, there he was\n",
      "a conder to she was so her tood andone the tomething a mettre of all\n",
      "the seare. \"Ahe same as a lithle an the sore ounds to the part if.\"\n",
      "\n",
      "\"And where, said he heart her,\" said Levin, lotking his him, who had\n",
      "and have been all to at the propsted....\"\n",
      "\n",
      "This with a was told of his sawer at when semether had heart the coult of\n",
      "her.\n",
      "\n",
      "She was sond the crover her they her had the have out, be to the came\n",
      "with the samill, a sate to hall and went the porstion, and to see the\n",
      "conderteded--a came to bring that the shallist on he fact. The heard\n",
      "a seepicully say the comsions a struen a conctace. And her aldays, they he\n",
      "would not that it talk to the chomply and and a mary at word at the\n",
      "collance was somethancs in whoch he had not to have the should at antter\n",
      "and and strough and his and some, and stald intereate the momen all\n",
      "seated, and his hand wort of all the sore had, said a matere the\n",
      "plane was not imponstion ot all and that tho go stepling on a still to\n",
      "she was talked, but it a seef in officitated in the mother, and the\n",
      "stent of she with that they ware the store, and the concert and somether\n",
      "treed always to he was nover the chaster, and the cound, samition was\n",
      "she have that her was to become him, had but the seame of the stace,\n",
      "that she was not it of all his forse fance, and there hap to be to the\n",
      "days on the sant have had bang was so shime, and to shick and secing\n",
      "the petsions, with hore with happesed a crantination was that the cample the\n",
      "sang\n",
      "of had to be a tay, her has she saded itterss. He was a crince he\n",
      "had not before the more. The said that he daintted a sent on the\n",
      "carrous to so murth of tishing, the come that had both had his atter\n",
      "had see so to a lift there was at a clances of there wants of to\n",
      "commire to some.... \n"
     ]
    }
   ],
   "source": [
    "# Change cuda to True if you are using GPU!\n",
    "print(sample(loaded, 2000, cuda=True, top_k=5, prime=\"And Levin said\"))"
   ],
   "metadata": {
    "collapsed": false,
    "pycharm": {
     "name": "#%%\n"
    }
   }
  }
 ],
 "metadata": {
  "kernelspec": {
   "display_name": "Python 3",
   "language": "python",
   "name": "python3"
  },
  "language_info": {
   "codemirror_mode": {
    "name": "ipython",
    "version": 2
   },
   "file_extension": ".py",
   "mimetype": "text/x-python",
   "name": "python",
   "nbconvert_exporter": "python",
   "pygments_lexer": "ipython2",
   "version": "2.7.6"
  }
 },
 "nbformat": 4,
 "nbformat_minor": 0
}