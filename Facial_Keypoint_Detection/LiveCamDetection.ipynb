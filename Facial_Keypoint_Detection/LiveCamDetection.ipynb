{
 "cells": [
  {
   "cell_type": "code",
   "execution_count": 1,
   "metadata": {
    "collapsed": true
   },
   "outputs": [],
   "source": [
    "### Add face and eye detection to this laptop camera function\n",
    "# Make sure to draw out all faces/eyes found in each frame on the shown video feed\n",
    "\n",
    "import cv2\n",
    "import time\n",
    "\n",
    "face_cascade = cv2.CascadeClassifier('detector_architectures/haarcascade_frontalface_default.xml')\n",
    "eye_cascade = cv2.CascadeClassifier('detector_architectures/haarcascade_eye.xml')\n",
    "\n",
    "# wrapper function for face/eye detection with your laptop camera\n",
    "def laptop_camera_go():\n",
    "    # Create instance of video capturer\n",
    "    cv2.namedWindow(\"face detection activated\")\n",
    "    vc = cv2.VideoCapture(0)\n",
    "\n",
    "    # Try to get the first frame\n",
    "    if vc.isOpened():\n",
    "        rval, frame = vc.read()\n",
    "    else:\n",
    "        rval = False\n",
    "\n",
    "    # Keep the video stream open\n",
    "    while rval:\n",
    "\n",
    "        faces = face_cascade.detectMultiScale(frame, 1.2, 6)\n",
    "\n",
    "        for (x,y,w,h) in faces:\n",
    "            # draw a rectangle around each detected face\n",
    "            # you may also need to change the width of the rectangle drawn depending on image resolution\n",
    "            cv2.rectangle(frame,(x,y),(x+w,y+h),(255,0,0),3)\n",
    "            # roi_gray = gray[y:y+h, x:x+w]\n",
    "            # roi_color = image[y:y+h, x:x+w]\n",
    "            eyes = eye_cascade.detectMultiScale(frame,1.2,6)\n",
    "            for (ex,ey,ew,eh) in eyes:\n",
    "                cv2.rectangle(frame,(ex,ey),(ex+ew,ey+eh),(0,255,0),5)\n",
    "\n",
    "        # Plot the image from camera with all the face and eye detections marked\n",
    "        cv2.imshow(\"face detection activated\", frame)\n",
    "\n",
    "        # Exit functionality - press any key to exit laptop video\n",
    "        key = cv2.waitKey(20)\n",
    "        if key > 0: # Exit by pressing any key\n",
    "            # Destroy windows\n",
    "            cv2.destroyAllWindows()\n",
    "\n",
    "            # Make sure window closes on OSx\n",
    "            for i in range (1,5):\n",
    "                cv2.waitKey(1)\n",
    "            return\n",
    "\n",
    "        # Read next frame\n",
    "        time.sleep(0.05)             # control framerate for computation - default 20 frames per sec\n",
    "        rval, frame = vc.read()"
   ]
  },
  {
   "cell_type": "code",
   "execution_count": 2,
   "outputs": [],
   "source": [
    "laptop_camera_go()"
   ],
   "metadata": {
    "collapsed": false
   }
  }
 ],
 "metadata": {
  "kernelspec": {
   "display_name": "Python 3",
   "language": "python",
   "name": "python3"
  },
  "language_info": {
   "codemirror_mode": {
    "name": "ipython",
    "version": 2
   },
   "file_extension": ".py",
   "mimetype": "text/x-python",
   "name": "python",
   "nbconvert_exporter": "python",
   "pygments_lexer": "ipython2",
   "version": "2.7.6"
  }
 },
 "nbformat": 4,
 "nbformat_minor": 0
}
