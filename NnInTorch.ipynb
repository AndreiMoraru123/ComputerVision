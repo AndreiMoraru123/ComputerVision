{
 "cells": [
  {
   "cell_type": "code",
   "execution_count": 2,
   "outputs": [],
   "source": [
    "import numpy as np\n",
    "import torch\n",
    "\n",
    "import helper\n",
    "import matplotlib.pyplot as plt\n",
    "from torchvision import datasets, transforms\n",
    "\n",
    "%matplotlib inline\n",
    "%config InlineBackend.figure_format = 'retina'"
   ],
   "metadata": {
    "collapsed": false,
    "pycharm": {
     "name": "#%%\n"
    }
   }
  },
  {
   "cell_type": "code",
   "execution_count": 14,
   "outputs": [],
   "source": [
    "# Define a transform to normalize the data\n",
    "transform = transforms.Compose([transforms.ToTensor(),\n",
    "                              transforms.Normalize([0.5], [0.5]), # substract mean = 0.5 and std = 0.5 to transform from -1 to 1 instead of from 0 to 1\n",
    "                             ])\n",
    "# Download and load the training data\n",
    "trainset = datasets.MNIST('MNIST_data/', download=True, train=True, transform=transform)\n",
    "trainloader = torch.utils.data.DataLoader(trainset, batch_size=64, shuffle=True)\n",
    "\n",
    "# Download and load the test data\n",
    "testset = datasets.MNIST('MNIST_data/', download=True, train=False, transform=transform)\n",
    "testloader = torch.utils.data.DataLoader(testset, batch_size=64, shuffle=True)"
   ],
   "metadata": {
    "collapsed": false,
    "pycharm": {
     "name": "#%%\n"
    }
   }
  },
  {
   "cell_type": "code",
   "execution_count": 15,
   "outputs": [],
   "source": [
    "dataiter = iter(trainloader)\n",
    "images, labels =  dataiter.next()"
   ],
   "metadata": {
    "collapsed": false,
    "pycharm": {
     "name": "#%%\n"
    }
   }
  },
  {
   "cell_type": "code",
   "execution_count": 19,
   "outputs": [
    {
     "data": {
      "text/plain": "<Figure size 432x288 with 1 Axes>",
      "image/png": "[encoded data removed]"
     },
     "metadata": {
      "image/png": {
       "width": 251,
       "height": 248
      },
      "needs_background": "light"
     },
     "output_type": "display_data"
    }
   ],
   "source": [
    "plt.imshow(images[1].numpy().squeeze(),cmap='Greys_r')\n",
    "plt.show()"
   ],
   "metadata": {
    "collapsed": false,
    "pycharm": {
     "name": "#%%\n"
    }
   }
  },
  {
   "cell_type": "markdown",
   "source": [
    "## Building networks with PyTorch\n",
    "\n",
    "Here I'll use PyTorch to build a simple feedfoward network to classify the MNIST images. That is, the network will receive a digit image as input and predict the digit in the image.\n",
    "\n",
    "<img src=\"assets/mlp_mnist.png\" width=600px>\n",
    "\n",
    "To build a neural network with PyTorch, you use the `torch.nn` module. The network itself is a class inheriting from `torch.nn.Module`. You define each of the operations separately, like `nn.Linear(784, 128)` for a fully connected linear layer with 784 inputs and 128 units.\n",
    "\n",
    "The class needs to include a `forward` method that implements the forward pass through the network. In this method, you pass some input tensor `x` through each of the operations you defined earlier. The `torch.nn` module also has functional equivalents for things like ReLUs in `torch.nn.functional`. This module is usually imported as `F`. Then to use a ReLU activation on some layer (which is just a tensor), you'd do `F.relu(x)`. Below are a few different commonly used activation functions.\n",
    "\n",
    "<img src=\"assets/activation.png\" width=700px>\n",
    "\n",
    "So, for this network, I'll build it with three fully connected layers, then a softmax output for predicting classes. The softmax function is similar to the sigmoid in that it squashes inputs between 0 and 1, but it's also normalized so that all the values sum to one like a proper probability distribution."
   ],
   "metadata": {
    "collapsed": false,
    "pycharm": {
     "name": "#%% md\n"
    }
   }
  },
  {
   "cell_type": "code",
   "execution_count": 20,
   "outputs": [],
   "source": [
    "from torch import nn\n",
    "import torch.nn.functional as F"
   ],
   "metadata": {
    "collapsed": false,
    "pycharm": {
     "name": "#%%\n"
    }
   }
  },
  {
   "cell_type": "code",
   "execution_count": 27,
   "outputs": [
    {
     "data": {
      "text/plain": "Network(\n  (fc1): Linear(in_features=784, out_features=128, bias=True)\n  (fc2): Linear(in_features=128, out_features=64, bias=True)\n  (fc3): Linear(in_features=64, out_features=10, bias=True)\n)"
     },
     "execution_count": 27,
     "metadata": {},
     "output_type": "execute_result"
    }
   ],
   "source": [
    "class Network(nn.Module):\n",
    "\n",
    "    def __init__(self):\n",
    "        super().__init__()\n",
    "\n",
    "        self.fc1 = nn.Linear(28*28,128)\n",
    "        self.fc2 = nn.Linear(128,64)\n",
    "        self.fc3 = nn.Linear(64,10)\n",
    "\n",
    "    def forward(self,x):\n",
    "        x = self.fc1(x)\n",
    "        x = F.relu(x)\n",
    "        x = self.fc2(x)\n",
    "        x = F.relu(x)\n",
    "        x = self.fc3(x)\n",
    "        x = F.softmax(x,dim=1) # tensor is 64 [0] by 10 [1], so we want softmax for the 1st dimension to map 10 values\n",
    "\n",
    "        return x\n",
    "\n",
    "model = Network()\n",
    "model"
   ],
   "metadata": {
    "collapsed": false,
    "pycharm": {
     "name": "#%%\n"
    }
   }
  },
  {
   "cell_type": "markdown",
   "source": [
    "### Initializing weights and biases\n",
    "\n",
    "The weights and such are automatically initialized for you, but it's possible to customize how they are initialized. The weights and biases are tensors attached to the layer you defined, you can get them with `model.fc1.weight` for instance."
   ],
   "metadata": {
    "collapsed": false,
    "pycharm": {
     "name": "#%% md\n"
    }
   }
  },
  {
   "cell_type": "code",
   "execution_count": 28,
   "outputs": [
    {
     "name": "stdout",
     "output_type": "stream",
     "text": [
      "Parameter containing:\n",
      "tensor([[-0.0030, -0.0051,  0.0003,  ..., -0.0295, -0.0137, -0.0009],\n",
      "        [ 0.0097, -0.0119,  0.0246,  ...,  0.0136,  0.0080, -0.0093],\n",
      "        [-0.0169, -0.0321, -0.0262,  ...,  0.0227, -0.0298,  0.0302],\n",
      "        ...,\n",
      "        [ 0.0134,  0.0206,  0.0278,  ..., -0.0182, -0.0102, -0.0077],\n",
      "        [ 0.0018,  0.0128, -0.0199,  ...,  0.0133, -0.0221,  0.0153],\n",
      "        [-0.0272,  0.0002, -0.0245,  ...,  0.0007,  0.0315,  0.0220]],\n",
      "       requires_grad=True)\n",
      "Parameter containing:\n",
      "tensor([-2.4670e-02,  4.7158e-03,  2.2528e-02, -3.4260e-02,  2.3551e-02,\n",
      "         4.8531e-03, -8.3479e-03,  1.8104e-02,  2.1638e-02, -1.3124e-02,\n",
      "         1.9957e-03,  7.7463e-03,  2.3426e-02,  6.8745e-03, -1.7625e-02,\n",
      "        -2.6167e-02, -3.4198e-03, -2.1745e-02,  2.1857e-02,  9.6597e-03,\n",
      "         2.9361e-02,  1.0883e-02,  1.9870e-02, -3.0219e-02,  1.8525e-02,\n",
      "         1.5045e-02,  1.3466e-02, -5.2255e-03, -3.2377e-02,  1.2569e-02,\n",
      "         1.7474e-02, -2.9590e-02,  1.0840e-03,  1.8474e-02, -2.1248e-02,\n",
      "        -3.5358e-02,  1.8974e-02, -2.1862e-02,  1.3652e-02, -1.2612e-03,\n",
      "        -2.8346e-03, -1.9654e-02,  7.7271e-03, -2.0680e-02, -2.0193e-02,\n",
      "        -2.1098e-02,  1.5887e-02, -1.9535e-02, -2.6987e-02,  6.9841e-04,\n",
      "         1.2340e-02,  3.7442e-03,  1.7738e-02,  2.1009e-02,  2.9733e-02,\n",
      "        -2.3113e-02, -3.0822e-03,  1.8153e-03,  2.6156e-02,  8.7635e-03,\n",
      "        -2.0315e-02,  2.4608e-02, -1.9917e-02,  5.7033e-03, -3.5195e-02,\n",
      "        -8.8223e-03, -2.5663e-02, -8.9655e-04,  1.0777e-02, -8.4151e-03,\n",
      "         2.9892e-02,  2.3922e-02, -7.4893e-03, -1.7005e-02, -2.1362e-03,\n",
      "         1.5650e-02,  2.5321e-02,  3.5300e-02, -2.0970e-02,  1.4433e-02,\n",
      "         2.3527e-02, -6.8979e-03, -2.6308e-02,  3.3682e-02,  2.6551e-02,\n",
      "         2.8680e-02, -3.2924e-02,  1.7564e-03,  1.4462e-02, -2.9517e-03,\n",
      "        -3.2951e-02,  1.6546e-02,  5.2910e-03,  2.7630e-02,  1.4785e-02,\n",
      "        -2.3436e-02,  2.6639e-02, -1.7436e-03,  4.2094e-03,  1.8426e-02,\n",
      "         5.9630e-03, -3.0095e-02, -2.8065e-02,  1.3088e-02, -3.3811e-02,\n",
      "        -6.5243e-03, -6.9683e-03, -1.8672e-02, -1.5117e-02,  1.2051e-02,\n",
      "         1.7672e-02, -1.2198e-02,  6.3736e-03,  5.5834e-03,  9.7603e-05,\n",
      "         2.4361e-02,  2.7134e-02,  5.0105e-03,  2.2588e-02, -3.4220e-02,\n",
      "        -4.1154e-03, -1.3804e-02, -3.5561e-02,  1.9613e-02,  2.0086e-02,\n",
      "         9.6512e-03, -3.4931e-02, -1.3004e-02], requires_grad=True)\n"
     ]
    }
   ],
   "source": [
    "print(model.fc1.weight)\n",
    "print(model.fc1.bias)"
   ],
   "metadata": {
    "collapsed": false,
    "pycharm": {
     "name": "#%%\n"
    }
   }
  },
  {
   "cell_type": "markdown",
   "source": [
    "For custom initialization, we want to modify these tensors in place. These are actually autograd *Variables*, so we need to get back the actual tensors with `model.fc1.weight.data`. Once we have the tensors, we can fill them with zeros (for biases) or random normal values."
   ],
   "metadata": {
    "collapsed": false,
    "pycharm": {
     "name": "#%% md\n"
    }
   }
  },
  {
   "cell_type": "code",
   "execution_count": 29,
   "outputs": [
    {
     "data": {
      "text/plain": "tensor([0., 0., 0., 0., 0., 0., 0., 0., 0., 0., 0., 0., 0., 0., 0., 0., 0., 0., 0., 0., 0., 0., 0., 0.,\n        0., 0., 0., 0., 0., 0., 0., 0., 0., 0., 0., 0., 0., 0., 0., 0., 0., 0., 0., 0., 0., 0., 0., 0.,\n        0., 0., 0., 0., 0., 0., 0., 0., 0., 0., 0., 0., 0., 0., 0., 0., 0., 0., 0., 0., 0., 0., 0., 0.,\n        0., 0., 0., 0., 0., 0., 0., 0., 0., 0., 0., 0., 0., 0., 0., 0., 0., 0., 0., 0., 0., 0., 0., 0.,\n        0., 0., 0., 0., 0., 0., 0., 0., 0., 0., 0., 0., 0., 0., 0., 0., 0., 0., 0., 0., 0., 0., 0., 0.,\n        0., 0., 0., 0., 0., 0., 0., 0.])"
     },
     "execution_count": 29,
     "metadata": {},
     "output_type": "execute_result"
    }
   ],
   "source": [
    "# set all biases to 0\n",
    "model.fc1.bias.data.fill_(0)"
   ],
   "metadata": {
    "collapsed": false,
    "pycharm": {
     "name": "#%%\n"
    }
   }
  },
  {
   "cell_type": "code",
   "execution_count": 30,
   "outputs": [
    {
     "data": {
      "text/plain": "tensor([[-0.0075,  0.0017,  0.0201,  ..., -0.0139,  0.0030,  0.0082],\n        [ 0.0060,  0.0129, -0.0195,  ..., -0.0002, -0.0052,  0.0084],\n        [-0.0089,  0.0025,  0.0101,  ..., -0.0194,  0.0069,  0.0140],\n        ...,\n        [-0.0173, -0.0085, -0.0039,  ...,  0.0020, -0.0018,  0.0155],\n        [ 0.0010, -0.0099,  0.0103,  ...,  0.0102, -0.0010,  0.0065],\n        [ 0.0081, -0.0144,  0.0031,  ..., -0.0027, -0.0019, -0.0015]])"
     },
     "execution_count": 30,
     "metadata": {},
     "output_type": "execute_result"
    }
   ],
   "source": [
    "# sample from normal dist with std = 0.01\n",
    "\n",
    "model.fc1.weight.data.normal_(std=0.01)"
   ],
   "metadata": {
    "collapsed": false,
    "pycharm": {
     "name": "#%%\n"
    }
   }
  },
  {
   "cell_type": "code",
   "execution_count": 32,
   "outputs": [
    {
     "data": {
      "text/plain": "<Figure size 432x648 with 2 Axes>",
      "image/png": "[encoded data removed]"
     },
     "metadata": {
      "image/png": {
       "width": 424,
       "height": 235
      },
      "needs_background": "light"
     },
     "output_type": "display_data"
    }
   ],
   "source": [
    "images, labels = next(iter(trainloader))\n",
    "\n",
    "# images.resize_(64,1,784) # hardcode\n",
    "images.resize_(images.shape[0],1,28 * 28)\n",
    "\n",
    "ps = model.forward(images[0])\n",
    "\n",
    "helper.view_classify(images[0].view(1,28,28),ps)"
   ],
   "metadata": {
    "collapsed": false,
    "pycharm": {
     "name": "#%%\n"
    }
   }
  },
  {
   "cell_type": "code",
   "execution_count": 34,
   "outputs": [
    {
     "name": "stdout",
     "output_type": "stream",
     "text": [
      "Sequential(\n",
      "  (0): Linear(in_features=784, out_features=128, bias=True)\n",
      "  (1): ReLU()\n",
      "  (2): Linear(in_features=128, out_features=64, bias=True)\n",
      "  (3): ReLU()\n",
      "  (4): Linear(in_features=64, out_features=10, bias=True)\n",
      "  (5): Softmax(dim=1)\n",
      ")\n"
     ]
    }
   ],
   "source": [
    "input_size = 784\n",
    "hidden_size = [128,64]\n",
    "output_size = 10\n",
    "\n",
    "model = nn.Sequential(nn.Linear(input_size,hidden_size[0]),\n",
    "                    nn.ReLU(),\n",
    "                    nn.Linear(hidden_size[0],hidden_size[1]),\n",
    "                    nn.ReLU(),\n",
    "                    nn.Linear(hidden_size[1],output_size),\n",
    "                    nn.Softmax(dim=1))\n",
    "\n",
    "print(model)"
   ],
   "metadata": {
    "collapsed": false,
    "pycharm": {
     "name": "#%%\n"
    }
   }
  },
  {
   "cell_type": "code",
   "execution_count": 35,
   "outputs": [
    {
     "data": {
      "text/plain": "Sequential(\n  (fc1): Linear(in_features=784, out_features=128, bias=True)\n  (relu1): ReLU()\n  (fc2): Linear(in_features=128, out_features=64, bias=True)\n  (relu2): ReLU()\n  (output): Linear(in_features=64, out_features=10, bias=True)\n  (softmax): Softmax(dim=1)\n)"
     },
     "execution_count": 35,
     "metadata": {},
     "output_type": "execute_result"
    }
   ],
   "source": [
    "from collections import OrderedDict\n",
    "model = nn.Sequential(OrderedDict([\n",
    "                      ('fc1', nn.Linear(input_size, hidden_size[0])),\n",
    "                      ('relu1', nn.ReLU()),\n",
    "                      ('fc2', nn.Linear(hidden_size[0], hidden_size[1])),\n",
    "                      ('relu2', nn.ReLU()),\n",
    "                      ('output', nn.Linear(hidden_size[1], output_size)),\n",
    "                      ('softmax', nn.Softmax(dim=1))]))\n",
    "model"
   ],
   "metadata": {
    "collapsed": false,
    "pycharm": {
     "name": "#%%\n"
    }
   }
  },
  {
   "cell_type": "code",
   "execution_count": 36,
   "outputs": [
    {
     "name": "stdout",
     "output_type": "stream",
     "text": [
      "Sequential(\n",
      "  (0): Linear(in_features=784, out_features=400, bias=True)\n",
      "  (1): ReLU()\n",
      "  (2): Linear(in_features=400, out_features=200, bias=True)\n",
      "  (3): ReLU()\n",
      "  (4): Linear(in_features=200, out_features=100, bias=True)\n",
      "  (5): ReLU()\n",
      "  (6): Linear(in_features=100, out_features=10, bias=True)\n",
      "  (7): Softmax(dim=1)\n",
      ")\n"
     ]
    }
   ],
   "source": [
    "input_size = 784\n",
    "hidden_size = [400,200,100]\n",
    "output_size = 10\n",
    "\n",
    "model = nn.Sequential(nn.Linear(input_size,hidden_size[0]),\n",
    "                    nn.ReLU(),\n",
    "                    nn.Linear(hidden_size[0],hidden_size[1]),\n",
    "                    nn.ReLU(),\n",
    "                    nn.Linear(hidden_size[1],hidden_size[2]),\n",
    "                    nn.ReLU(),\n",
    "                    nn.Linear(hidden_size[2],output_size),\n",
    "                    nn.Softmax(dim=1)\n",
    "                    )\n",
    "\n",
    "print(model)"
   ],
   "metadata": {
    "collapsed": false,
    "pycharm": {
     "name": "#%%\n"
    }
   }
  },
  {
   "cell_type": "code",
   "execution_count": 40,
   "outputs": [
    {
     "data": {
      "text/plain": "<Figure size 432x648 with 2 Axes>",
      "image/png": "[encoded data removed]"
     },
     "metadata": {
      "image/png": {
       "width": 424,
       "height": 235
      },
      "needs_background": "light"
     },
     "output_type": "display_data"
    }
   ],
   "source": [
    "images, labels = next(iter(trainloader))\n",
    "images.resize_(images.shape[0],1,784)\n",
    "ps = model.forward(images[0,:])\n",
    "helper.view_classify(images[0].view(1,28,28),ps)"
   ],
   "metadata": {
    "collapsed": false,
    "pycharm": {
     "name": "#%%\n"
    }
   }
  },
  {
   "cell_type": "markdown",
   "source": [
    "# Training Neural Networks\n",
    "\n",
    "The network we built in the previous part isn't so smart, it doesn't know anything about our handwritten digits. Neural networks with non-linear activations work like universal function approximators. There is some function that maps your input to the output. For example, images of handwritten digits to class probabilities. The power of neural networks is that we can train them to approximate this function, and basically any function given enough data and compute time.\n",
    "\n",
    "<img src=\"assets/function_approx.png\" width=500px>\n",
    "\n",
    "At first the network is naive, it doesn't know the function mapping the inputs to the outputs. We train the network by showing it examples of real data, then adjusting the network parameters such that it approximates this function.\n",
    "\n",
    "To find these parameters, we need to know how poorly the network is predicting the real outputs. For this we calculate a **loss function** (also called the cost), a measure of our prediction error. For example, the mean squared loss is often used in regression and binary classification problems\n",
    "\n",
    "$$\n",
    "\\ell = \\frac{1}{2n}\\sum_i^n{\\left(y_i - \\hat{y}_i\\right)^2}\n",
    "$$\n",
    "\n",
    "where $n$ is the number of training examples, $y_i$ are the true labels, and $\\hat{y}_i$ are the predicted labels.\n",
    "\n",
    "By minimizing this loss with respect to the network parameters, we can find configurations where the loss is at a minimum and the network is able to predict the correct labels with high accuracy. We find this minimum using a process called **gradient descent**. The gradient is the slope of the loss function and points in the direction of fastest change. To get to the minimum in the least amount of time, we then want to follow the gradient (downwards). You can think of this like descending a mountain by following the steepest slope to the base.\n",
    "\n",
    "<img src='assets/gradient_descent.png' width=350px>"
   ],
   "metadata": {
    "collapsed": false,
    "pycharm": {
     "name": "#%% md\n"
    }
   }
  },
  {
   "cell_type": "markdown",
   "source": [
    "## Backpropagation\n",
    "\n",
    "For single layer networks, gradient descent is simple to implement. However, it's more complicated for deeper, multilayer neural networks like the one we've built. Complicated enough that it took about 30 years before researchers figured out how to train multilayer networks, although it's straightforward once you learn about it.\n",
    "\n",
    "This is done through **backpropagation** which is really just an application of the chain rule from calculus. It's easiest to understand if we convert a two layer network into a graph representation.\n",
    "\n",
    "<img src='assets/w1_backprop_graph.png' width=400px>\n",
    "\n",
    "In the forward pass through the network, our data and operations go from right to left here. To train the weights with gradient descent, we propagate the gradient of the cost backwards through the network. Mathematically, this is really just calculating the gradient of the loss with respect to the weights using the chain rule.\n",
    "\n",
    "$$\n",
    "\\frac{\\partial \\ell}{\\partial w_1} = \\frac{\\partial l_1}{\\partial w_1} \\frac{\\partial s}{\\partial l_1} \\frac{\\partial l_2}{\\partial s} \\frac{\\partial \\ell}{\\partial l_2}\n",
    "$$\n",
    "\n",
    "We update our weights using this gradient with some learning rate $\\alpha$.\n",
    "\n",
    "$$\n",
    "w^\\prime = w - \\alpha \\frac{\\partial \\ell}{\\partial w}\n",
    "$$\n",
    "\n",
    "The learning rate is set such that the weight update steps are small enough that the iterative method settles in a minimum.\n",
    "\n",
    "The first thing we need to do for training is define our loss function. In PyTorch, you'll usually see this as `criterion`. Here we're using softmax output, so we want to use `criterion = nn.CrossEntropyLoss()` as our loss. Later when training, you use `loss = criterion(output, targets)` to calculate the actual loss.\n",
    "\n",
    "We also need to define the optimizer we're using, SGD or Adam, or something along those lines. Here I'll just use SGD with `torch.optim.SGD`, passing in the network parameters and the learning rate."
   ],
   "metadata": {
    "collapsed": false,
    "pycharm": {
     "name": "#%% md\n"
    }
   }
  },
  {
   "cell_type": "code",
   "execution_count": 41,
   "outputs": [],
   "source": [
    "from torch import optim\n",
    "import time"
   ],
   "metadata": {
    "collapsed": false,
    "pycharm": {
     "name": "#%%\n"
    }
   }
  },
  {
   "cell_type": "code",
   "execution_count": 42,
   "outputs": [
    {
     "data": {
      "text/plain": "tensor([[0.3400, 0.4133],\n        [0.5679, 0.0860]], requires_grad=True)"
     },
     "execution_count": 42,
     "metadata": {},
     "output_type": "execute_result"
    }
   ],
   "source": [
    "x = torch.rand(2,2,requires_grad=True)\n",
    "x"
   ],
   "metadata": {
    "collapsed": false,
    "pycharm": {
     "name": "#%%\n"
    }
   }
  },
  {
   "cell_type": "code",
   "execution_count": 43,
   "outputs": [
    {
     "data": {
      "text/plain": "tensor([[0.1156, 0.1709],\n        [0.3225, 0.0074]], grad_fn=<PowBackward0>)"
     },
     "execution_count": 43,
     "metadata": {},
     "output_type": "execute_result"
    }
   ],
   "source": [
    "y = x**2\n",
    "y"
   ],
   "metadata": {
    "collapsed": false,
    "pycharm": {
     "name": "#%%\n"
    }
   }
  },
  {
   "cell_type": "code",
   "execution_count": 44,
   "outputs": [
    {
     "name": "stdout",
     "output_type": "stream",
     "text": [
      "<PowBackward0 object at 0x0000027923082CE0>\n"
     ]
    }
   ],
   "source": [
    "print(y.grad_fn)"
   ],
   "metadata": {
    "collapsed": false,
    "pycharm": {
     "name": "#%%\n"
    }
   }
  },
  {
   "cell_type": "code",
   "execution_count": 45,
   "outputs": [
    {
     "data": {
      "text/plain": "tensor(0.1541, grad_fn=<MeanBackward0>)"
     },
     "execution_count": 45,
     "metadata": {},
     "output_type": "execute_result"
    }
   ],
   "source": [
    "z = y.mean()\n",
    "z"
   ],
   "metadata": {
    "collapsed": false,
    "pycharm": {
     "name": "#%%\n"
    }
   }
  },
  {
   "cell_type": "code",
   "execution_count": 47,
   "outputs": [
    {
     "name": "stdout",
     "output_type": "stream",
     "text": [
      "None\n"
     ]
    }
   ],
   "source": [
    "print(x.grad)"
   ],
   "metadata": {
    "collapsed": false,
    "pycharm": {
     "name": "#%%\n"
    }
   }
  },
  {
   "cell_type": "code",
   "execution_count": 48,
   "outputs": [
    {
     "name": "stdout",
     "output_type": "stream",
     "text": [
      "tensor([[0.1700, 0.2067],\n",
      "        [0.2839, 0.0430]])\n"
     ]
    }
   ],
   "source": [
    "z.backward()\n",
    "print(x.grad)"
   ],
   "metadata": {
    "collapsed": false,
    "pycharm": {
     "name": "#%%\n"
    }
   }
  },
  {
   "cell_type": "code",
   "execution_count": 50,
   "outputs": [
    {
     "name": "stdout",
     "output_type": "stream",
     "text": [
      "tensor([[0.1700, 0.2067],\n",
      "        [0.2839, 0.0430]], grad_fn=<DivBackward0>)\n"
     ]
    }
   ],
   "source": [
    "print(x/2)"
   ],
   "metadata": {
    "collapsed": false,
    "pycharm": {
     "name": "#%%\n"
    }
   }
  },
  {
   "cell_type": "code",
   "execution_count": 69,
   "outputs": [],
   "source": [
    "# Hyperparameters for our network\n",
    "input_size = 784\n",
    "hidden_sizes = [128, 64]\n",
    "output_size = 10\n",
    "\n",
    "# Build a feed-forward network\n",
    "model = nn.Sequential(OrderedDict([\n",
    "                      ('fc1', nn.Linear(input_size, hidden_sizes[0])),\n",
    "                      ('relu1', nn.ReLU()),\n",
    "                      ('fc2', nn.Linear(hidden_sizes[0], hidden_sizes[1])),\n",
    "                      ('relu2', nn.ReLU()),\n",
    "                      ('logits', nn.Linear(hidden_sizes[1], output_size))]))"
   ],
   "metadata": {
    "collapsed": false,
    "pycharm": {
     "name": "#%%\n"
    }
   }
  },
  {
   "cell_type": "code",
   "execution_count": 70,
   "outputs": [],
   "source": [
    "criterion = nn.CrossEntropyLoss()\n",
    "optimizer = optim.SGD(model.parameters(),lr=0.01)"
   ],
   "metadata": {
    "collapsed": false,
    "pycharm": {
     "name": "#%%\n"
    }
   }
  },
  {
   "cell_type": "code",
   "execution_count": 56,
   "outputs": [
    {
     "name": "stdout",
     "output_type": "stream",
     "text": [
      "Before Parameter containing:\n",
      "tensor([[-1.6082e-02,  3.4021e-02, -3.5569e-02,  ...,  1.8623e-03,\n",
      "         -1.0376e-02, -1.4039e-02],\n",
      "        [ 1.1276e-02,  1.5598e-02, -2.6264e-02,  ..., -2.8833e-03,\n",
      "          3.5662e-03,  1.4225e-02],\n",
      "        [-2.8639e-02,  9.6742e-05, -2.8954e-02,  ..., -6.3834e-03,\n",
      "          2.3261e-02, -1.8094e-02],\n",
      "        ...,\n",
      "        [-1.9621e-02,  2.0142e-02, -2.3396e-02,  ...,  4.4391e-03,\n",
      "          2.1283e-02,  2.6446e-02],\n",
      "        [-1.5662e-02,  1.6612e-02,  1.3158e-02,  ...,  2.2870e-02,\n",
      "         -3.9667e-03, -6.5352e-03],\n",
      "        [ 1.9086e-02,  1.4755e-02,  1.3331e-02,  ..., -1.2739e-02,\n",
      "         -1.4066e-02, -1.8508e-02]], requires_grad=True)\n",
      "Gradient -  tensor([[-9.3381e-06, -9.3381e-06, -9.3381e-06,  ..., -9.3381e-06,\n",
      "         -9.3381e-06, -9.3381e-06],\n",
      "        [ 0.0000e+00,  0.0000e+00,  0.0000e+00,  ...,  0.0000e+00,\n",
      "          0.0000e+00,  0.0000e+00],\n",
      "        [ 2.0363e-04,  2.0363e-04,  2.0363e-04,  ...,  2.0363e-04,\n",
      "          2.0363e-04,  2.0363e-04],\n",
      "        ...,\n",
      "        [-9.0844e-06, -9.0844e-06, -9.0844e-06,  ..., -9.0844e-06,\n",
      "         -9.0844e-06, -9.0844e-06],\n",
      "        [-1.7546e-04, -1.7546e-04, -1.7546e-04,  ..., -1.7546e-04,\n",
      "         -1.7546e-04, -1.7546e-04],\n",
      "        [-3.5385e-04, -3.5385e-04, -3.5385e-04,  ..., -3.5385e-04,\n",
      "         -3.5385e-04, -3.5385e-04]])\n"
     ]
    }
   ],
   "source": [
    "print('Before',model.fc1.weight)\n",
    "images,labels = next(iter(trainloader))\n",
    "images.resize_(64,784)\n",
    "\n",
    "optimizer.zero_grad()\n",
    "\n",
    "output = model.forward(images)\n",
    "loss = criterion(output,labels)\n",
    "loss.backward()\n",
    "print('Gradient - ', model.fc1.weight.grad)\n",
    "optimizer.step()"
   ],
   "metadata": {
    "collapsed": false,
    "pycharm": {
     "name": "#%%\n"
    }
   }
  },
  {
   "cell_type": "code",
   "execution_count": 54,
   "outputs": [
    {
     "name": "stdout",
     "output_type": "stream",
     "text": [
      "updated weights -  Parameter containing:\n",
      "tensor([[-1.6082e-02,  3.4021e-02, -3.5569e-02,  ...,  1.8623e-03,\n",
      "         -1.0376e-02, -1.4039e-02],\n",
      "        [ 1.1276e-02,  1.5598e-02, -2.6264e-02,  ..., -2.8833e-03,\n",
      "          3.5662e-03,  1.4225e-02],\n",
      "        [-2.8639e-02,  9.6742e-05, -2.8954e-02,  ..., -6.3834e-03,\n",
      "          2.3261e-02, -1.8094e-02],\n",
      "        ...,\n",
      "        [-1.9621e-02,  2.0142e-02, -2.3396e-02,  ...,  4.4391e-03,\n",
      "          2.1283e-02,  2.6446e-02],\n",
      "        [-1.5662e-02,  1.6612e-02,  1.3158e-02,  ...,  2.2870e-02,\n",
      "         -3.9667e-03, -6.5352e-03],\n",
      "        [ 1.9086e-02,  1.4755e-02,  1.3331e-02,  ..., -1.2739e-02,\n",
      "         -1.4066e-02, -1.8508e-02]], requires_grad=True)\n"
     ]
    }
   ],
   "source": [
    "print('updated weights - ', model.fc1.weight)"
   ],
   "metadata": {
    "collapsed": false,
    "pycharm": {
     "name": "#%%\n"
    }
   }
  },
  {
   "cell_type": "code",
   "execution_count": 60,
   "outputs": [
    {
     "data": {
      "text/plain": "64"
     },
     "execution_count": 60,
     "metadata": {},
     "output_type": "execute_result"
    }
   ],
   "source": [
    "images.size()[0]"
   ],
   "metadata": {
    "collapsed": false,
    "pycharm": {
     "name": "#%%\n"
    }
   }
  },
  {
   "cell_type": "code",
   "execution_count": 71,
   "outputs": [
    {
     "name": "stdout",
     "output_type": "stream",
     "text": [
      "Epoch: 1/3...  Loss: 2.2602\n",
      "Epoch: 1/3...  Loss: 2.1857\n",
      "Epoch: 1/3...  Loss: 2.0906\n",
      "Epoch: 1/3...  Loss: 1.9618\n",
      "Epoch: 1/3...  Loss: 1.7882\n",
      "Epoch: 1/3...  Loss: 1.5674\n",
      "Epoch: 1/3...  Loss: 1.3531\n",
      "Epoch: 1/3...  Loss: 1.1440\n",
      "Epoch: 1/3...  Loss: 1.0080\n",
      "Epoch: 1/3...  Loss: 0.8699\n",
      "Epoch: 1/3...  Loss: 0.7919\n",
      "Epoch: 1/3...  Loss: 0.7155\n",
      "Epoch: 1/3...  Loss: 0.6681\n",
      "Epoch: 1/3...  Loss: 0.6407\n",
      "Epoch: 1/3...  Loss: 0.5983\n",
      "Epoch: 1/3...  Loss: 0.5731\n",
      "Epoch: 1/3...  Loss: 0.5275\n",
      "Epoch: 1/3...  Loss: 0.5231\n",
      "Epoch: 1/3...  Loss: 0.5162\n",
      "Epoch: 1/3...  Loss: 0.4794\n",
      "Epoch: 1/3...  Loss: 0.4736\n",
      "Epoch: 1/3...  Loss: 0.4835\n",
      "Epoch: 1/3...  Loss: 0.4580\n",
      "Epoch: 2/3...  Loss: 0.2498\n",
      "Epoch: 2/3...  Loss: 0.4528\n",
      "Epoch: 2/3...  Loss: 0.4254\n",
      "Epoch: 2/3...  Loss: 0.4197\n",
      "Epoch: 2/3...  Loss: 0.4366\n",
      "Epoch: 2/3...  Loss: 0.4220\n",
      "Epoch: 2/3...  Loss: 0.4123\n",
      "Epoch: 2/3...  Loss: 0.3954\n",
      "Epoch: 2/3...  Loss: 0.3858\n",
      "Epoch: 2/3...  Loss: 0.3713\n",
      "Epoch: 2/3...  Loss: 0.3940\n",
      "Epoch: 2/3...  Loss: 0.4169\n",
      "Epoch: 2/3...  Loss: 0.3787\n",
      "Epoch: 2/3...  Loss: 0.3665\n",
      "Epoch: 2/3...  Loss: 0.3711\n",
      "Epoch: 2/3...  Loss: 0.3619\n",
      "Epoch: 2/3...  Loss: 0.3608\n",
      "Epoch: 2/3...  Loss: 0.3268\n",
      "Epoch: 2/3...  Loss: 0.3510\n",
      "Epoch: 2/3...  Loss: 0.3322\n",
      "Epoch: 2/3...  Loss: 0.3343\n",
      "Epoch: 2/3...  Loss: 0.3736\n",
      "Epoch: 2/3...  Loss: 0.3135\n",
      "Epoch: 3/3...  Loss: 0.0309\n",
      "Epoch: 3/3...  Loss: 0.3543\n",
      "Epoch: 3/3...  Loss: 0.3498\n",
      "Epoch: 3/3...  Loss: 0.3505\n",
      "Epoch: 3/3...  Loss: 0.3287\n",
      "Epoch: 3/3...  Loss: 0.3315\n",
      "Epoch: 3/3...  Loss: 0.3666\n",
      "Epoch: 3/3...  Loss: 0.3305\n",
      "Epoch: 3/3...  Loss: 0.3054\n",
      "Epoch: 3/3...  Loss: 0.3054\n",
      "Epoch: 3/3...  Loss: 0.2994\n",
      "Epoch: 3/3...  Loss: 0.2990\n",
      "Epoch: 3/3...  Loss: 0.3434\n",
      "Epoch: 3/3...  Loss: 0.2920\n",
      "Epoch: 3/3...  Loss: 0.3645\n",
      "Epoch: 3/3...  Loss: 0.2969\n",
      "Epoch: 3/3...  Loss: 0.3257\n",
      "Epoch: 3/3...  Loss: 0.2917\n",
      "Epoch: 3/3...  Loss: 0.3425\n",
      "Epoch: 3/3...  Loss: 0.2984\n",
      "Epoch: 3/3...  Loss: 0.3036\n",
      "Epoch: 3/3...  Loss: 0.3201\n",
      "Epoch: 3/3...  Loss: 0.3007\n",
      "Epoch: 3/3...  Loss: 0.3078\n"
     ]
    }
   ],
   "source": [
    "epochs = 3\n",
    "\n",
    "print_every = 40\n",
    "steps = 0\n",
    "for e in range(epochs):\n",
    "    running_loss = 0\n",
    "\n",
    "    for images , labels in trainloader:\n",
    "        steps += 1\n",
    "        images.resize_(images.size()[0],784)\n",
    "\n",
    "        optimizer.zero_grad()\n",
    "\n",
    "        output = model.forward(images)\n",
    "        loss = criterion(output,labels)\n",
    "        loss.backward()\n",
    "        optimizer.step()\n",
    "\n",
    "        running_loss += loss.item()\n",
    "\n",
    "        if steps % print_every == 0:\n",
    "            print(\"Epoch: {}/{}... \".format(e+1, epochs),\n",
    "                  \"Loss: {:.4f}\".format(running_loss/print_every))\n",
    "\n",
    "            running_loss = 0"
   ],
   "metadata": {
    "collapsed": false,
    "pycharm": {
     "name": "#%%\n"
    }
   }
  },
  {
   "cell_type": "code",
   "execution_count": 78,
   "outputs": [
    {
     "data": {
      "text/plain": "<Figure size 432x648 with 2 Axes>",
      "image/png": "[encoded data removed]"
     },
     "metadata": {
      "image/png": {
       "width": 424,
       "height": 235
      },
      "needs_background": "light"
     },
     "output_type": "display_data"
    }
   ],
   "source": [
    "images,abels = next(iter(trainloader))\n",
    "\n",
    "img =  images[0].view(1,28*28)\n",
    "\n",
    "with torch.no_grad():\n",
    "    logits = model.forward(img)\n",
    "\n",
    "ps = F.softmax(logits, dim=1)\n",
    "helper.view_classify(img.view(1,28,28),ps)"
   ],
   "metadata": {
    "collapsed": false,
    "pycharm": {
     "name": "#%%\n"
    }
   }
  },
  {
   "cell_type": "code",
   "execution_count": null,
   "outputs": [],
   "source": [],
   "metadata": {
    "collapsed": false,
    "pycharm": {
     "name": "#%%\n"
    }
   }
  }
 ],
 "metadata": {
  "kernelspec": {
   "display_name": "Python 3",
   "language": "python",
   "name": "python3"
  },
  "language_info": {
   "codemirror_mode": {
    "name": "ipython",
    "version": 2
   },
   "file_extension": ".py",
   "mimetype": "text/x-python",
   "name": "python",
   "nbconvert_exporter": "python",
   "pygments_lexer": "ipython2",
   "version": "2.7.6"
  }
 },
 "nbformat": 4,
 "nbformat_minor": 0
}