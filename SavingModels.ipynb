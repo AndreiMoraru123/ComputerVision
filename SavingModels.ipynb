{
 "cells": [
  {
   "cell_type": "code",
   "execution_count": 3,
   "outputs": [],
   "source": [
    "%matplotlib inline\n",
    "%config InlineBackend.figure_format='retina'\n",
    "\n",
    "import matplotlib.pyplot as plt\n",
    "import numpy as np\n",
    "import time\n",
    "\n",
    "import torch\n",
    "from torch import nn\n",
    "from torch import optim\n",
    "import torch.nn.functional as F\n",
    "from torchvision import datasets, transforms\n",
    "\n",
    "import helper"
   ],
   "metadata": {
    "collapsed": false,
    "pycharm": {
     "name": "#%%\n"
    }
   }
  },
  {
   "cell_type": "code",
   "execution_count": 2,
   "outputs": [
    {
     "name": "stderr",
     "output_type": "stream",
     "text": [
      "--2022-07-18 20:11:40--  https://raw.githubusercontent.com/udacity/DL_PyTorch/master/fc_model.py\n",
      "Resolving raw.githubusercontent.com (raw.githubusercontent.com)... 185.199.109.133, 185.199.110.133, 185.199.111.133, ...\n",
      "Connecting to raw.githubusercontent.com (raw.githubusercontent.com)|185.199.109.133|:443... connected.\n",
      "HTTP request sent, awaiting response... 200 OK\n",
      "Length: 3542 (3.5K) [text/plain]\n",
      "Saving to: 'fc_model.py'\n",
      "\n",
      "     0K ...                                                   100% 2.44M=0.001s\n",
      "\n",
      "2022-07-18 20:11:40 (2.44 MB/s) - 'fc_model.py' saved [3542/3542]\n",
      "\n"
     ]
    }
   ],
   "source": [
    "!wget -c https://raw.githubusercontent.com/udacity/DL_PyTorch/master/fc_model.py"
   ],
   "metadata": {
    "collapsed": false,
    "pycharm": {
     "name": "#%%\n"
    }
   }
  },
  {
   "cell_type": "code",
   "execution_count": 4,
   "outputs": [],
   "source": [
    "import fc_model # just the network in a different file"
   ],
   "metadata": {
    "collapsed": false,
    "pycharm": {
     "name": "#%%\n"
    }
   }
  },
  {
   "cell_type": "code",
   "execution_count": 5,
   "outputs": [],
   "source": [
    "transform = transforms.Compose([transforms.ToTensor(),transforms.Normalize([0.5],[0.5])])\n",
    "\n",
    "# Download and load the training data\n",
    "trainset = datasets.FashionMNIST('F_MNIST_data/', download=True, train=True, transform=transform)\n",
    "trainloader = torch.utils.data.DataLoader(trainset, batch_size=64, shuffle=True)\n",
    "\n",
    "# Download and load the test data\n",
    "testset = datasets.FashionMNIST('F_MNIST_data/', download=True, train=False, transform=transform)\n",
    "testloader = torch.utils.data.DataLoader(testset, batch_size=64, shuffle=True)"
   ],
   "metadata": {
    "collapsed": false,
    "pycharm": {
     "name": "#%%\n"
    }
   }
  },
  {
   "cell_type": "code",
   "execution_count": 6,
   "outputs": [
    {
     "data": {
      "text/plain": "<AxesSubplot:>"
     },
     "execution_count": 6,
     "metadata": {},
     "output_type": "execute_result"
    },
    {
     "data": {
      "text/plain": "<Figure size 432x288 with 1 Axes>",
      "image/png": "[encoded data removed]"
     },
     "metadata": {
      "image/png": {
       "width": 231,
       "height": 231
      },
      "needs_background": "light"
     },
     "output_type": "display_data"
    }
   ],
   "source": [
    "image, label = next(iter(trainloader))\n",
    "helper.imshow(image[0,:])"
   ],
   "metadata": {
    "collapsed": false,
    "pycharm": {
     "name": "#%%\n"
    }
   }
  },
  {
   "cell_type": "code",
   "execution_count": 7,
   "outputs": [],
   "source": [
    "model = fc_model.Network(784,10,[516,256], drop_p = 0.5)\n",
    "criterion = nn.NLLLoss()\n",
    "optimizer = optim.Adam(model.parameters(), lr=0.001)"
   ],
   "metadata": {
    "collapsed": false,
    "pycharm": {
     "name": "#%%\n"
    }
   }
  },
  {
   "cell_type": "code",
   "execution_count": 8,
   "outputs": [
    {
     "name": "stdout",
     "output_type": "stream",
     "text": [
      "Epoch: 1/2..  Training Loss: 1.287..  Test Loss: 0.773..  Test Accuracy: 0.720\n",
      "Epoch: 1/2..  Training Loss: 0.799..  Test Loss: 0.685..  Test Accuracy: 0.743\n",
      "Epoch: 1/2..  Training Loss: 0.714..  Test Loss: 0.624..  Test Accuracy: 0.771\n",
      "Epoch: 1/2..  Training Loss: 0.698..  Test Loss: 0.577..  Test Accuracy: 0.785\n",
      "Epoch: 1/2..  Training Loss: 0.649..  Test Loss: 0.555..  Test Accuracy: 0.797\n",
      "Epoch: 1/2..  Training Loss: 0.619..  Test Loss: 0.543..  Test Accuracy: 0.798\n",
      "Epoch: 1/2..  Training Loss: 0.635..  Test Loss: 0.526..  Test Accuracy: 0.806\n",
      "Epoch: 1/2..  Training Loss: 0.602..  Test Loss: 0.511..  Test Accuracy: 0.811\n",
      "Epoch: 1/2..  Training Loss: 0.592..  Test Loss: 0.516..  Test Accuracy: 0.813\n",
      "Epoch: 1/2..  Training Loss: 0.552..  Test Loss: 0.536..  Test Accuracy: 0.802\n",
      "Epoch: 1/2..  Training Loss: 0.559..  Test Loss: 0.490..  Test Accuracy: 0.819\n",
      "Epoch: 1/2..  Training Loss: 0.575..  Test Loss: 0.522..  Test Accuracy: 0.804\n",
      "Epoch: 1/2..  Training Loss: 0.557..  Test Loss: 0.497..  Test Accuracy: 0.816\n",
      "Epoch: 1/2..  Training Loss: 0.578..  Test Loss: 0.484..  Test Accuracy: 0.819\n",
      "Epoch: 1/2..  Training Loss: 0.564..  Test Loss: 0.480..  Test Accuracy: 0.820\n",
      "Epoch: 1/2..  Training Loss: 0.537..  Test Loss: 0.493..  Test Accuracy: 0.820\n",
      "Epoch: 1/2..  Training Loss: 0.539..  Test Loss: 0.471..  Test Accuracy: 0.828\n",
      "Epoch: 1/2..  Training Loss: 0.582..  Test Loss: 0.488..  Test Accuracy: 0.815\n",
      "Epoch: 1/2..  Training Loss: 0.510..  Test Loss: 0.471..  Test Accuracy: 0.827\n",
      "Epoch: 1/2..  Training Loss: 0.536..  Test Loss: 0.466..  Test Accuracy: 0.827\n",
      "Epoch: 1/2..  Training Loss: 0.529..  Test Loss: 0.457..  Test Accuracy: 0.829\n",
      "Epoch: 1/2..  Training Loss: 0.513..  Test Loss: 0.462..  Test Accuracy: 0.830\n",
      "Epoch: 1/2..  Training Loss: 0.455..  Test Loss: 0.457..  Test Accuracy: 0.833\n",
      "Epoch: 2/2..  Training Loss: 0.507..  Test Loss: 0.527..  Test Accuracy: 0.800\n",
      "Epoch: 2/2..  Training Loss: 0.485..  Test Loss: 0.458..  Test Accuracy: 0.830\n",
      "Epoch: 2/2..  Training Loss: 0.518..  Test Loss: 0.459..  Test Accuracy: 0.829\n",
      "Epoch: 2/2..  Training Loss: 0.502..  Test Loss: 0.450..  Test Accuracy: 0.832\n",
      "Epoch: 2/2..  Training Loss: 0.510..  Test Loss: 0.440..  Test Accuracy: 0.838\n",
      "Epoch: 2/2..  Training Loss: 0.513..  Test Loss: 0.452..  Test Accuracy: 0.831\n",
      "Epoch: 2/2..  Training Loss: 0.492..  Test Loss: 0.465..  Test Accuracy: 0.831\n",
      "Epoch: 2/2..  Training Loss: 0.482..  Test Loss: 0.436..  Test Accuracy: 0.837\n",
      "Epoch: 2/2..  Training Loss: 0.489..  Test Loss: 0.440..  Test Accuracy: 0.840\n",
      "Epoch: 2/2..  Training Loss: 0.484..  Test Loss: 0.446..  Test Accuracy: 0.832\n",
      "Epoch: 2/2..  Training Loss: 0.479..  Test Loss: 0.432..  Test Accuracy: 0.841\n",
      "Epoch: 2/2..  Training Loss: 0.496..  Test Loss: 0.446..  Test Accuracy: 0.837\n",
      "Epoch: 2/2..  Training Loss: 0.468..  Test Loss: 0.430..  Test Accuracy: 0.843\n",
      "Epoch: 2/2..  Training Loss: 0.506..  Test Loss: 0.437..  Test Accuracy: 0.841\n",
      "Epoch: 2/2..  Training Loss: 0.480..  Test Loss: 0.427..  Test Accuracy: 0.844\n",
      "Epoch: 2/2..  Training Loss: 0.445..  Test Loss: 0.421..  Test Accuracy: 0.847\n",
      "Epoch: 2/2..  Training Loss: 0.498..  Test Loss: 0.459..  Test Accuracy: 0.829\n",
      "Epoch: 2/2..  Training Loss: 0.452..  Test Loss: 0.438..  Test Accuracy: 0.835\n",
      "Epoch: 2/2..  Training Loss: 0.458..  Test Loss: 0.432..  Test Accuracy: 0.840\n",
      "Epoch: 2/2..  Training Loss: 0.499..  Test Loss: 0.461..  Test Accuracy: 0.832\n",
      "Epoch: 2/2..  Training Loss: 0.477..  Test Loss: 0.434..  Test Accuracy: 0.839\n",
      "Epoch: 2/2..  Training Loss: 0.467..  Test Loss: 0.423..  Test Accuracy: 0.844\n",
      "Epoch: 2/2..  Training Loss: 0.455..  Test Loss: 0.421..  Test Accuracy: 0.844\n"
     ]
    }
   ],
   "source": [
    "fc_model.train(model,trainloader,testloader,criterion,optimizer,epochs=2)"
   ],
   "metadata": {
    "collapsed": false,
    "pycharm": {
     "name": "#%%\n"
    }
   }
  },
  {
   "cell_type": "code",
   "execution_count": 9,
   "outputs": [
    {
     "name": "stdout",
     "output_type": "stream",
     "text": [
      "Network(\n",
      "  (hidden_layers): ModuleList(\n",
      "    (0): Linear(in_features=784, out_features=516, bias=True)\n",
      "    (1): Linear(in_features=516, out_features=256, bias=True)\n",
      "  )\n",
      "  (output): Linear(in_features=256, out_features=10, bias=True)\n",
      "  (dropout): Dropout(p=0.5, inplace=False)\n",
      ")\n",
      "odict_keys(['hidden_layers.0.weight', 'hidden_layers.0.bias', 'hidden_layers.1.weight', 'hidden_layers.1.bias', 'output.weight', 'output.bias'])\n"
     ]
    }
   ],
   "source": [
    "print(model)\n",
    "print(model.state_dict().keys())"
   ],
   "metadata": {
    "collapsed": false,
    "pycharm": {
     "name": "#%%\n"
    }
   }
  },
  {
   "cell_type": "code",
   "execution_count": 10,
   "outputs": [],
   "source": [
    "torch.save(model.state_dict(),'checkpoints.pth')"
   ],
   "metadata": {
    "collapsed": false,
    "pycharm": {
     "name": "#%%\n"
    }
   }
  },
  {
   "cell_type": "code",
   "execution_count": 11,
   "outputs": [
    {
     "name": "stdout",
     "output_type": "stream",
     "text": [
      "odict_keys(['hidden_layers.0.weight', 'hidden_layers.0.bias', 'hidden_layers.1.weight', 'hidden_layers.1.bias', 'output.weight', 'output.bias'])\n"
     ]
    }
   ],
   "source": [
    "state_dict = torch.load('checkpoints.pth')\n",
    "print(state_dict.keys())"
   ],
   "metadata": {
    "collapsed": false,
    "pycharm": {
     "name": "#%%\n"
    }
   }
  },
  {
   "cell_type": "code",
   "execution_count": 12,
   "outputs": [
    {
     "data": {
      "text/plain": "<All keys matched successfully>"
     },
     "execution_count": 12,
     "metadata": {},
     "output_type": "execute_result"
    }
   ],
   "source": [
    "model.load_state_dict(state_dict) # load the state dictionary in the model"
   ],
   "metadata": {
    "collapsed": false,
    "pycharm": {
     "name": "#%%\n"
    }
   }
  },
  {
   "cell_type": "code",
   "execution_count": 14,
   "outputs": [
    {
     "ename": "RuntimeError",
     "evalue": "Error(s) in loading state_dict for Network:\n\tMissing key(s) in state_dict: \"hidden_layers.2.weight\", \"hidden_layers.2.bias\". \n\tsize mismatch for hidden_layers.0.weight: copying a param with shape torch.Size([516, 784]) from checkpoint, the shape in current model is torch.Size([400, 784]).\n\tsize mismatch for hidden_layers.0.bias: copying a param with shape torch.Size([516]) from checkpoint, the shape in current model is torch.Size([400]).\n\tsize mismatch for hidden_layers.1.weight: copying a param with shape torch.Size([256, 516]) from checkpoint, the shape in current model is torch.Size([200, 400]).\n\tsize mismatch for hidden_layers.1.bias: copying a param with shape torch.Size([256]) from checkpoint, the shape in current model is torch.Size([200]).\n\tsize mismatch for output.weight: copying a param with shape torch.Size([10, 256]) from checkpoint, the shape in current model is torch.Size([10, 100]).",
     "output_type": "error",
     "traceback": [
      "\u001B[1;31m---------------------------------------------------------------------------\u001B[0m",
      "\u001B[1;31mRuntimeError\u001B[0m                              Traceback (most recent call last)",
      "Input \u001B[1;32mIn [14]\u001B[0m, in \u001B[0;36m<cell line: 2>\u001B[1;34m()\u001B[0m\n\u001B[0;32m      1\u001B[0m model \u001B[38;5;241m=\u001B[39m fc_model\u001B[38;5;241m.\u001B[39mNetwork(\u001B[38;5;241m784\u001B[39m,\u001B[38;5;241m10\u001B[39m,[\u001B[38;5;241m400\u001B[39m,\u001B[38;5;241m200\u001B[39m,\u001B[38;5;241m100\u001B[39m])\n\u001B[1;32m----> 2\u001B[0m \u001B[43mmodel\u001B[49m\u001B[38;5;241;43m.\u001B[39;49m\u001B[43mload_state_dict\u001B[49m\u001B[43m(\u001B[49m\u001B[43mstate_dict\u001B[49m\u001B[43m)\u001B[49m\n",
      "File \u001B[1;32m~\\PycharmProjects\\ComputerVision1\\venv\\lib\\site-packages\\torch\\nn\\modules\\module.py:1604\u001B[0m, in \u001B[0;36mModule.load_state_dict\u001B[1;34m(self, state_dict, strict)\u001B[0m\n\u001B[0;32m   1599\u001B[0m         error_msgs\u001B[38;5;241m.\u001B[39minsert(\n\u001B[0;32m   1600\u001B[0m             \u001B[38;5;241m0\u001B[39m, \u001B[38;5;124m'\u001B[39m\u001B[38;5;124mMissing key(s) in state_dict: \u001B[39m\u001B[38;5;132;01m{}\u001B[39;00m\u001B[38;5;124m. \u001B[39m\u001B[38;5;124m'\u001B[39m\u001B[38;5;241m.\u001B[39mformat(\n\u001B[0;32m   1601\u001B[0m                 \u001B[38;5;124m'\u001B[39m\u001B[38;5;124m, \u001B[39m\u001B[38;5;124m'\u001B[39m\u001B[38;5;241m.\u001B[39mjoin(\u001B[38;5;124m'\u001B[39m\u001B[38;5;124m\"\u001B[39m\u001B[38;5;132;01m{}\u001B[39;00m\u001B[38;5;124m\"\u001B[39m\u001B[38;5;124m'\u001B[39m\u001B[38;5;241m.\u001B[39mformat(k) \u001B[38;5;28;01mfor\u001B[39;00m k \u001B[38;5;129;01min\u001B[39;00m missing_keys)))\n\u001B[0;32m   1603\u001B[0m \u001B[38;5;28;01mif\u001B[39;00m \u001B[38;5;28mlen\u001B[39m(error_msgs) \u001B[38;5;241m>\u001B[39m \u001B[38;5;241m0\u001B[39m:\n\u001B[1;32m-> 1604\u001B[0m     \u001B[38;5;28;01mraise\u001B[39;00m \u001B[38;5;167;01mRuntimeError\u001B[39;00m(\u001B[38;5;124m'\u001B[39m\u001B[38;5;124mError(s) in loading state_dict for \u001B[39m\u001B[38;5;132;01m{}\u001B[39;00m\u001B[38;5;124m:\u001B[39m\u001B[38;5;130;01m\\n\u001B[39;00m\u001B[38;5;130;01m\\t\u001B[39;00m\u001B[38;5;132;01m{}\u001B[39;00m\u001B[38;5;124m'\u001B[39m\u001B[38;5;241m.\u001B[39mformat(\n\u001B[0;32m   1605\u001B[0m                        \u001B[38;5;28mself\u001B[39m\u001B[38;5;241m.\u001B[39m\u001B[38;5;18m__class__\u001B[39m\u001B[38;5;241m.\u001B[39m\u001B[38;5;18m__name__\u001B[39m, \u001B[38;5;124m\"\u001B[39m\u001B[38;5;130;01m\\n\u001B[39;00m\u001B[38;5;130;01m\\t\u001B[39;00m\u001B[38;5;124m\"\u001B[39m\u001B[38;5;241m.\u001B[39mjoin(error_msgs)))\n\u001B[0;32m   1606\u001B[0m \u001B[38;5;28;01mreturn\u001B[39;00m _IncompatibleKeys(missing_keys, unexpected_keys)\n",
      "\u001B[1;31mRuntimeError\u001B[0m: Error(s) in loading state_dict for Network:\n\tMissing key(s) in state_dict: \"hidden_layers.2.weight\", \"hidden_layers.2.bias\". \n\tsize mismatch for hidden_layers.0.weight: copying a param with shape torch.Size([516, 784]) from checkpoint, the shape in current model is torch.Size([400, 784]).\n\tsize mismatch for hidden_layers.0.bias: copying a param with shape torch.Size([516]) from checkpoint, the shape in current model is torch.Size([400]).\n\tsize mismatch for hidden_layers.1.weight: copying a param with shape torch.Size([256, 516]) from checkpoint, the shape in current model is torch.Size([200, 400]).\n\tsize mismatch for hidden_layers.1.bias: copying a param with shape torch.Size([256]) from checkpoint, the shape in current model is torch.Size([200]).\n\tsize mismatch for output.weight: copying a param with shape torch.Size([10, 256]) from checkpoint, the shape in current model is torch.Size([10, 100])."
     ]
    }
   ],
   "source": [
    "model = fc_model.Network(784,10,[400,200,100])\n",
    "model.load_state_dict(state_dict) # will result in an error\n",
    "# so we need to save the Net architecture alongisde the state dict"
   ],
   "metadata": {
    "collapsed": false,
    "pycharm": {
     "name": "#%%\n"
    }
   }
  },
  {
   "cell_type": "code",
   "execution_count": 18,
   "outputs": [],
   "source": [
    "checkpoint = {'input_size': 784,\n",
    "              'output_size':10,\n",
    "              'hidden_layers' : [each.out_features for each in model.hidden_layers],\n",
    "              'state_dict': model.state_dict()}\n",
    "\n",
    "torch.save(checkpoint,'checkpoint.pth')"
   ],
   "metadata": {
    "collapsed": false,
    "pycharm": {
     "name": "#%%\n"
    }
   }
  },
  {
   "cell_type": "code",
   "execution_count": 19,
   "outputs": [],
   "source": [
    "def load_checkpoint(filepath):\n",
    "\n",
    "    checkpoint = torch.load(filepath)\n",
    "    model = fc_model.Network(checkpoint['input_size'],\n",
    "                             checkpoint['output_size'],\n",
    "                             checkpoint['hidden_layers'])\n",
    "\n",
    "    model.load_state_dict(checkpoint['state_dict'])\n",
    "\n",
    "    return model"
   ],
   "metadata": {
    "collapsed": false,
    "pycharm": {
     "name": "#%%\n"
    }
   }
  },
  {
   "cell_type": "code",
   "execution_count": 22,
   "outputs": [
    {
     "name": "stdout",
     "output_type": "stream",
     "text": [
      "Network(\n",
      "  (hidden_layers): ModuleList(\n",
      "    (0): Linear(in_features=784, out_features=400, bias=True)\n",
      "    (1): Linear(in_features=400, out_features=200, bias=True)\n",
      "    (2): Linear(in_features=200, out_features=100, bias=True)\n",
      "  )\n",
      "  (output): Linear(in_features=100, out_features=10, bias=True)\n",
      "  (dropout): Dropout(p=0.5, inplace=False)\n",
      ")\n"
     ]
    }
   ],
   "source": [
    "model = load_checkpoint('checkpoint.pth')\n",
    "print(model)"
   ],
   "metadata": {
    "collapsed": false,
    "pycharm": {
     "name": "#%%\n"
    }
   }
  },
  {
   "cell_type": "code",
   "execution_count": 36,
   "outputs": [
    {
     "name": "stdout",
     "output_type": "stream",
     "text": [
      "Epoch: 1/2..  Training Loss: 2.312..  Test Loss: 2.308..  Test Accuracy: 0.095\n",
      "Epoch: 1/2..  Training Loss: 2.311..  Test Loss: 2.308..  Test Accuracy: 0.095\n",
      "Epoch: 1/2..  Training Loss: 2.313..  Test Loss: 2.308..  Test Accuracy: 0.095\n",
      "Epoch: 1/2..  Training Loss: 2.314..  Test Loss: 2.308..  Test Accuracy: 0.095\n",
      "Epoch: 1/2..  Training Loss: 2.310..  Test Loss: 2.308..  Test Accuracy: 0.095\n",
      "Epoch: 1/2..  Training Loss: 2.317..  Test Loss: 2.308..  Test Accuracy: 0.095\n",
      "Epoch: 1/2..  Training Loss: 2.309..  Test Loss: 2.308..  Test Accuracy: 0.096\n",
      "Epoch: 1/2..  Training Loss: 2.312..  Test Loss: 2.308..  Test Accuracy: 0.095\n",
      "Epoch: 1/2..  Training Loss: 2.310..  Test Loss: 2.308..  Test Accuracy: 0.095\n",
      "Epoch: 1/2..  Training Loss: 2.313..  Test Loss: 2.308..  Test Accuracy: 0.095\n",
      "Epoch: 1/2..  Training Loss: 2.313..  Test Loss: 2.308..  Test Accuracy: 0.095\n",
      "Epoch: 1/2..  Training Loss: 2.311..  Test Loss: 2.308..  Test Accuracy: 0.095\n",
      "Epoch: 1/2..  Training Loss: 2.315..  Test Loss: 2.308..  Test Accuracy: 0.095\n",
      "Epoch: 1/2..  Training Loss: 2.315..  Test Loss: 2.308..  Test Accuracy: 0.096\n",
      "Epoch: 1/2..  Training Loss: 2.311..  Test Loss: 2.308..  Test Accuracy: 0.095\n",
      "Epoch: 1/2..  Training Loss: 2.311..  Test Loss: 2.308..  Test Accuracy: 0.095\n",
      "Epoch: 1/2..  Training Loss: 2.308..  Test Loss: 2.308..  Test Accuracy: 0.095\n",
      "Epoch: 1/2..  Training Loss: 2.311..  Test Loss: 2.308..  Test Accuracy: 0.095\n",
      "Epoch: 1/2..  Training Loss: 2.306..  Test Loss: 2.308..  Test Accuracy: 0.095\n",
      "Epoch: 1/2..  Training Loss: 2.314..  Test Loss: 2.308..  Test Accuracy: 0.095\n",
      "Epoch: 1/2..  Training Loss: 2.311..  Test Loss: 2.308..  Test Accuracy: 0.095\n",
      "Epoch: 1/2..  Training Loss: 2.312..  Test Loss: 2.308..  Test Accuracy: 0.095\n",
      "Epoch: 1/2..  Training Loss: 2.309..  Test Loss: 2.308..  Test Accuracy: 0.095\n",
      "Epoch: 2/2..  Training Loss: 2.313..  Test Loss: 2.308..  Test Accuracy: 0.095\n",
      "Epoch: 2/2..  Training Loss: 2.316..  Test Loss: 2.308..  Test Accuracy: 0.095\n",
      "Epoch: 2/2..  Training Loss: 2.313..  Test Loss: 2.308..  Test Accuracy: 0.095\n",
      "Epoch: 2/2..  Training Loss: 2.310..  Test Loss: 2.308..  Test Accuracy: 0.095\n",
      "Epoch: 2/2..  Training Loss: 2.310..  Test Loss: 2.308..  Test Accuracy: 0.095\n",
      "Epoch: 2/2..  Training Loss: 2.314..  Test Loss: 2.308..  Test Accuracy: 0.095\n",
      "Epoch: 2/2..  Training Loss: 2.311..  Test Loss: 2.308..  Test Accuracy: 0.095\n",
      "Epoch: 2/2..  Training Loss: 2.308..  Test Loss: 2.308..  Test Accuracy: 0.095\n",
      "Epoch: 2/2..  Training Loss: 2.311..  Test Loss: 2.308..  Test Accuracy: 0.095\n",
      "Epoch: 2/2..  Training Loss: 2.315..  Test Loss: 2.308..  Test Accuracy: 0.095\n",
      "Epoch: 2/2..  Training Loss: 2.319..  Test Loss: 2.308..  Test Accuracy: 0.095\n",
      "Epoch: 2/2..  Training Loss: 2.308..  Test Loss: 2.308..  Test Accuracy: 0.095\n",
      "Epoch: 2/2..  Training Loss: 2.310..  Test Loss: 2.308..  Test Accuracy: 0.095\n",
      "Epoch: 2/2..  Training Loss: 2.315..  Test Loss: 2.308..  Test Accuracy: 0.095\n",
      "Epoch: 2/2..  Training Loss: 2.311..  Test Loss: 2.308..  Test Accuracy: 0.096\n",
      "Epoch: 2/2..  Training Loss: 2.314..  Test Loss: 2.308..  Test Accuracy: 0.095\n",
      "Epoch: 2/2..  Training Loss: 2.311..  Test Loss: 2.308..  Test Accuracy: 0.095\n",
      "Epoch: 2/2..  Training Loss: 2.305..  Test Loss: 2.308..  Test Accuracy: 0.095\n",
      "Epoch: 2/2..  Training Loss: 2.317..  Test Loss: 2.308..  Test Accuracy: 0.095\n",
      "Epoch: 2/2..  Training Loss: 2.312..  Test Loss: 2.308..  Test Accuracy: 0.095\n",
      "Epoch: 2/2..  Training Loss: 2.312..  Test Loss: 2.308..  Test Accuracy: 0.095\n",
      "Epoch: 2/2..  Training Loss: 2.314..  Test Loss: 2.308..  Test Accuracy: 0.095\n",
      "Epoch: 2/2..  Training Loss: 2.312..  Test Loss: 2.308..  Test Accuracy: 0.095\n"
     ]
    }
   ],
   "source": [
    "fc_model.Network(784,10,[516,216,100])\n",
    "fc_model.train(model,trainloader,testloader,criterion,optimizer,epochs=2)"
   ],
   "metadata": {
    "collapsed": false,
    "pycharm": {
     "name": "#%%\n"
    }
   }
  },
  {
   "cell_type": "code",
   "execution_count": 37,
   "outputs": [],
   "source": [
    "test_loss = 0\n",
    "images, labels = next(iter(testloader))\n",
    "\n",
    "images.resize_(images.shape[0],784)\n",
    "\n",
    "output = model.forward(images)\n",
    "test_loss += criterion(output,labels).item()\n",
    "\n",
    "ps = torch.exp(output)"
   ],
   "metadata": {
    "collapsed": false,
    "pycharm": {
     "name": "#%%\n"
    }
   }
  },
  {
   "cell_type": "code",
   "execution_count": 38,
   "outputs": [
    {
     "data": {
      "text/plain": "torch.return_types.max(\nvalues=tensor([0.1230, 0.1226, 0.1312, 0.1131, 0.1318, 0.1190, 0.1198, 0.1194, 0.1248,\n        0.1160, 0.1286, 0.1220, 0.1229, 0.1226, 0.1185, 0.1255, 0.1187, 0.1243,\n        0.1264, 0.1164, 0.1199, 0.1271, 0.1244, 0.1209, 0.1250, 0.1259, 0.1152,\n        0.1258, 0.1144, 0.1189, 0.1161, 0.1320, 0.1165, 0.1234, 0.1219, 0.1223,\n        0.1354, 0.1180, 0.1203, 0.1175, 0.1333, 0.1267, 0.1287, 0.1155, 0.1142,\n        0.1472, 0.1281, 0.1160, 0.1217, 0.1229, 0.1223, 0.1227, 0.1159, 0.1250,\n        0.1124, 0.1225, 0.1111, 0.1280, 0.1174, 0.1100, 0.1167, 0.1282, 0.1209,\n        0.1167], grad_fn=<MaxBackward0>),\nindices=tensor([2, 6, 0, 6, 8, 2, 2, 2, 2, 2, 6, 3, 3, 3, 3, 6, 8, 2, 3, 3, 2, 6, 2, 2,\n        2, 2, 6, 2, 2, 2, 3, 3, 3, 3, 8, 2, 7, 2, 2, 2, 3, 2, 3, 8, 6, 3, 8, 3,\n        8, 2, 2, 2, 2, 3, 6, 2, 2, 8, 2, 4, 0, 3, 2, 3]))"
     },
     "execution_count": 38,
     "metadata": {},
     "output_type": "execute_result"
    }
   ],
   "source": [
    "ps.max(dim=1)"
   ],
   "metadata": {
    "collapsed": false,
    "pycharm": {
     "name": "#%%\n"
    }
   }
  },
  {
   "cell_type": "code",
   "execution_count": 39,
   "outputs": [
    {
     "data": {
      "text/plain": "tensor([ True, False, False, False, False,  True, False, False, False,  True,\n        False, False, False, False, False, False, False, False, False, False,\n        False, False, False, False, False, False,  True, False, False, False,\n        False, False, False, False, False, False,  True, False, False, False,\n        False, False, False, False, False,  True, False, False, False, False,\n         True, False, False, False, False, False, False,  True, False, False,\n         True, False, False, False])"
     },
     "execution_count": 39,
     "metadata": {},
     "output_type": "execute_result"
    }
   ],
   "source": [
    "equalit = (labels.data == ps.max(dim=1)[1])\n",
    "equalit"
   ],
   "metadata": {
    "collapsed": false,
    "pycharm": {
     "name": "#%%\n"
    }
   }
  },
  {
   "cell_type": "code",
   "execution_count": 40,
   "outputs": [
    {
     "data": {
      "text/plain": "tensor(0.1406)"
     },
     "execution_count": 40,
     "metadata": {},
     "output_type": "execute_result"
    }
   ],
   "source": [
    "accurac = equalit.type(torch.FloatTensor).mean()\n",
    "accurac"
   ],
   "metadata": {
    "collapsed": false,
    "pycharm": {
     "name": "#%%\n"
    }
   }
  }
 ],
 "metadata": {
  "kernelspec": {
   "display_name": "Python 3",
   "language": "python",
   "name": "python3"
  },
  "language_info": {
   "codemirror_mode": {
    "name": "ipython",
    "version": 2
   },
   "file_extension": ".py",
   "mimetype": "text/x-python",
   "name": "python",
   "nbconvert_exporter": "python",
   "pygments_lexer": "ipython2",
   "version": "2.7.6"
  }
 },
 "nbformat": 4,
 "nbformat_minor": 0
}